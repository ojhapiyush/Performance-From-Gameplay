{
 "cells": [
  {
   "cell_type": "markdown",
   "id": "382043b1",
   "metadata": {},
   "source": [
    "# Predict Student Performance from Game Play"
   ]
  },
  {
   "cell_type": "markdown",
   "id": "1a028ffe",
   "metadata": {},
   "source": [
    "Importing required libraries :\n",
    "- Seaborn and matplotlib for data visulization and graphs\n",
    "- Pandas for data manipulation and analysis\n",
    "- Numpy for Numerical computing"
   ]
  },
  {
   "cell_type": "code",
   "execution_count": 1,
   "id": "62960f63",
   "metadata": {},
   "outputs": [],
   "source": [
    "import seaborn as sns\n",
    "import pandas as pd \n",
    "import numpy as np\n",
    "import matplotlib as plt"
   ]
  },
  {
   "cell_type": "markdown",
   "id": "8771d2a4",
   "metadata": {},
   "source": [
    "# Load the Dataset."
   ]
  },
  {
   "cell_type": "code",
   "execution_count": 2,
   "id": "c2056a99",
   "metadata": {},
   "outputs": [],
   "source": [
    "file_train = \"C:/Users/PIYUSH/OneDrive/Desktop/Coding/ML-AI/Dataset/train.csv\"\n",
    "train_data = pd.read_csv(file_train)"
   ]
  },
  {
   "cell_type": "code",
   "execution_count": 3,
   "id": "7cbfa53e",
   "metadata": {},
   "outputs": [
    {
     "data": {
      "text/html": [
       "<div>\n",
       "<style scoped>\n",
       "    .dataframe tbody tr th:only-of-type {\n",
       "        vertical-align: middle;\n",
       "    }\n",
       "\n",
       "    .dataframe tbody tr th {\n",
       "        vertical-align: top;\n",
       "    }\n",
       "\n",
       "    .dataframe thead th {\n",
       "        text-align: right;\n",
       "    }\n",
       "</style>\n",
       "<table border=\"1\" class=\"dataframe\">\n",
       "  <thead>\n",
       "    <tr style=\"text-align: right;\">\n",
       "      <th></th>\n",
       "      <th>session_id</th>\n",
       "      <th>index</th>\n",
       "      <th>elapsed_time</th>\n",
       "      <th>event_name</th>\n",
       "      <th>name</th>\n",
       "      <th>level</th>\n",
       "      <th>page</th>\n",
       "      <th>room_coor_x</th>\n",
       "      <th>room_coor_y</th>\n",
       "      <th>screen_coor_x</th>\n",
       "      <th>screen_coor_y</th>\n",
       "      <th>hover_duration</th>\n",
       "      <th>text</th>\n",
       "      <th>fqid</th>\n",
       "      <th>room_fqid</th>\n",
       "      <th>text_fqid</th>\n",
       "      <th>fullscreen</th>\n",
       "      <th>hq</th>\n",
       "      <th>music</th>\n",
       "      <th>level_group</th>\n",
       "    </tr>\n",
       "  </thead>\n",
       "  <tbody>\n",
       "    <tr>\n",
       "      <th>0</th>\n",
       "      <td>20090312431273200</td>\n",
       "      <td>0</td>\n",
       "      <td>0</td>\n",
       "      <td>cutscene_click</td>\n",
       "      <td>basic</td>\n",
       "      <td>0</td>\n",
       "      <td>NaN</td>\n",
       "      <td>-413.991405</td>\n",
       "      <td>-159.314686</td>\n",
       "      <td>380.0</td>\n",
       "      <td>494.0</td>\n",
       "      <td>NaN</td>\n",
       "      <td>undefined</td>\n",
       "      <td>intro</td>\n",
       "      <td>tunic.historicalsociety.closet</td>\n",
       "      <td>tunic.historicalsociety.closet.intro</td>\n",
       "      <td>0</td>\n",
       "      <td>0</td>\n",
       "      <td>1</td>\n",
       "      <td>0-4</td>\n",
       "    </tr>\n",
       "    <tr>\n",
       "      <th>1</th>\n",
       "      <td>20090312431273200</td>\n",
       "      <td>1</td>\n",
       "      <td>1323</td>\n",
       "      <td>person_click</td>\n",
       "      <td>basic</td>\n",
       "      <td>0</td>\n",
       "      <td>NaN</td>\n",
       "      <td>-413.991405</td>\n",
       "      <td>-159.314686</td>\n",
       "      <td>380.0</td>\n",
       "      <td>494.0</td>\n",
       "      <td>NaN</td>\n",
       "      <td>Whatcha doing over there, Jo?</td>\n",
       "      <td>gramps</td>\n",
       "      <td>tunic.historicalsociety.closet</td>\n",
       "      <td>tunic.historicalsociety.closet.gramps.intro_0_...</td>\n",
       "      <td>0</td>\n",
       "      <td>0</td>\n",
       "      <td>1</td>\n",
       "      <td>0-4</td>\n",
       "    </tr>\n",
       "    <tr>\n",
       "      <th>2</th>\n",
       "      <td>20090312431273200</td>\n",
       "      <td>2</td>\n",
       "      <td>831</td>\n",
       "      <td>person_click</td>\n",
       "      <td>basic</td>\n",
       "      <td>0</td>\n",
       "      <td>NaN</td>\n",
       "      <td>-413.991405</td>\n",
       "      <td>-159.314686</td>\n",
       "      <td>380.0</td>\n",
       "      <td>494.0</td>\n",
       "      <td>NaN</td>\n",
       "      <td>Just talking to Teddy.</td>\n",
       "      <td>gramps</td>\n",
       "      <td>tunic.historicalsociety.closet</td>\n",
       "      <td>tunic.historicalsociety.closet.gramps.intro_0_...</td>\n",
       "      <td>0</td>\n",
       "      <td>0</td>\n",
       "      <td>1</td>\n",
       "      <td>0-4</td>\n",
       "    </tr>\n",
       "    <tr>\n",
       "      <th>3</th>\n",
       "      <td>20090312431273200</td>\n",
       "      <td>3</td>\n",
       "      <td>1147</td>\n",
       "      <td>person_click</td>\n",
       "      <td>basic</td>\n",
       "      <td>0</td>\n",
       "      <td>NaN</td>\n",
       "      <td>-413.991405</td>\n",
       "      <td>-159.314686</td>\n",
       "      <td>380.0</td>\n",
       "      <td>494.0</td>\n",
       "      <td>NaN</td>\n",
       "      <td>I gotta run to my meeting!</td>\n",
       "      <td>gramps</td>\n",
       "      <td>tunic.historicalsociety.closet</td>\n",
       "      <td>tunic.historicalsociety.closet.gramps.intro_0_...</td>\n",
       "      <td>0</td>\n",
       "      <td>0</td>\n",
       "      <td>1</td>\n",
       "      <td>0-4</td>\n",
       "    </tr>\n",
       "    <tr>\n",
       "      <th>4</th>\n",
       "      <td>20090312431273200</td>\n",
       "      <td>4</td>\n",
       "      <td>1863</td>\n",
       "      <td>person_click</td>\n",
       "      <td>basic</td>\n",
       "      <td>0</td>\n",
       "      <td>NaN</td>\n",
       "      <td>-412.991405</td>\n",
       "      <td>-159.314686</td>\n",
       "      <td>381.0</td>\n",
       "      <td>494.0</td>\n",
       "      <td>NaN</td>\n",
       "      <td>Can I come, Gramps?</td>\n",
       "      <td>gramps</td>\n",
       "      <td>tunic.historicalsociety.closet</td>\n",
       "      <td>tunic.historicalsociety.closet.gramps.intro_0_...</td>\n",
       "      <td>0</td>\n",
       "      <td>0</td>\n",
       "      <td>1</td>\n",
       "      <td>0-4</td>\n",
       "    </tr>\n",
       "  </tbody>\n",
       "</table>\n",
       "</div>"
      ],
      "text/plain": [
       "          session_id  index  elapsed_time      event_name   name  level  page  \\\n",
       "0  20090312431273200      0             0  cutscene_click  basic      0   NaN   \n",
       "1  20090312431273200      1          1323    person_click  basic      0   NaN   \n",
       "2  20090312431273200      2           831    person_click  basic      0   NaN   \n",
       "3  20090312431273200      3          1147    person_click  basic      0   NaN   \n",
       "4  20090312431273200      4          1863    person_click  basic      0   NaN   \n",
       "\n",
       "   room_coor_x  room_coor_y  screen_coor_x  screen_coor_y  hover_duration  \\\n",
       "0  -413.991405  -159.314686          380.0          494.0             NaN   \n",
       "1  -413.991405  -159.314686          380.0          494.0             NaN   \n",
       "2  -413.991405  -159.314686          380.0          494.0             NaN   \n",
       "3  -413.991405  -159.314686          380.0          494.0             NaN   \n",
       "4  -412.991405  -159.314686          381.0          494.0             NaN   \n",
       "\n",
       "                            text    fqid                       room_fqid  \\\n",
       "0                      undefined   intro  tunic.historicalsociety.closet   \n",
       "1  Whatcha doing over there, Jo?  gramps  tunic.historicalsociety.closet   \n",
       "2         Just talking to Teddy.  gramps  tunic.historicalsociety.closet   \n",
       "3     I gotta run to my meeting!  gramps  tunic.historicalsociety.closet   \n",
       "4            Can I come, Gramps?  gramps  tunic.historicalsociety.closet   \n",
       "\n",
       "                                           text_fqid  fullscreen  hq  music  \\\n",
       "0               tunic.historicalsociety.closet.intro           0   0      1   \n",
       "1  tunic.historicalsociety.closet.gramps.intro_0_...           0   0      1   \n",
       "2  tunic.historicalsociety.closet.gramps.intro_0_...           0   0      1   \n",
       "3  tunic.historicalsociety.closet.gramps.intro_0_...           0   0      1   \n",
       "4  tunic.historicalsociety.closet.gramps.intro_0_...           0   0      1   \n",
       "\n",
       "  level_group  \n",
       "0         0-4  \n",
       "1         0-4  \n",
       "2         0-4  \n",
       "3         0-4  \n",
       "4         0-4  "
      ]
     },
     "execution_count": 3,
     "metadata": {},
     "output_type": "execute_result"
    }
   ],
   "source": [
    "train_data.head() #getting a rough idea of dataset"
   ]
  },
  {
   "cell_type": "code",
   "execution_count": 4,
   "id": "1bb8f4bf",
   "metadata": {},
   "outputs": [
    {
     "data": {
      "text/plain": [
       "Index(['session_id', 'index', 'elapsed_time', 'event_name', 'name', 'level',\n",
       "       'page', 'room_coor_x', 'room_coor_y', 'screen_coor_x', 'screen_coor_y',\n",
       "       'hover_duration', 'text', 'fqid', 'room_fqid', 'text_fqid',\n",
       "       'fullscreen', 'hq', 'music', 'level_group'],\n",
       "      dtype='object')"
      ]
     },
     "execution_count": 4,
     "metadata": {},
     "output_type": "execute_result"
    }
   ],
   "source": [
    "train_data.columns"
   ]
  },
  {
   "cell_type": "code",
   "execution_count": 5,
   "id": "ea9deccf",
   "metadata": {},
   "outputs": [
    {
     "name": "stdout",
     "output_type": "stream",
     "text": [
      "<class 'pandas.core.frame.DataFrame'>\n",
      "RangeIndex: 26296946 entries, 0 to 26296945\n",
      "Data columns (total 20 columns):\n",
      " #   Column          Dtype  \n",
      "---  ------          -----  \n",
      " 0   session_id      int64  \n",
      " 1   index           int64  \n",
      " 2   elapsed_time    int64  \n",
      " 3   event_name      object \n",
      " 4   name            object \n",
      " 5   level           int64  \n",
      " 6   page            float64\n",
      " 7   room_coor_x     float64\n",
      " 8   room_coor_y     float64\n",
      " 9   screen_coor_x   float64\n",
      " 10  screen_coor_y   float64\n",
      " 11  hover_duration  float64\n",
      " 12  text            object \n",
      " 13  fqid            object \n",
      " 14  room_fqid       object \n",
      " 15  text_fqid       object \n",
      " 16  fullscreen      int64  \n",
      " 17  hq              int64  \n",
      " 18  music           int64  \n",
      " 19  level_group     object \n",
      "dtypes: float64(6), int64(7), object(7)\n",
      "memory usage: 3.9+ GB\n"
     ]
    }
   ],
   "source": [
    "train_data.info()"
   ]
  },
  {
   "cell_type": "markdown",
   "id": "44574df2",
   "metadata": {},
   "source": [
    "## Memory Optimization"
   ]
  },
  {
   "cell_type": "markdown",
   "id": "3acea6ac",
   "metadata": {},
   "source": [
    "When dealing with a large dataset, optimization becomes crucial. By default, Pandas assigns data types such as `float64`, `int64`, and `object`. However, these can be converted to lighter data types like `float32`, `int32`, `int8`, and others.\n",
    "\n",
    "It's important to exercise caution and ensure that the data doesn't exceed the range of the new data types.\n"
   ]
  },
  {
   "cell_type": "code",
   "execution_count": 6,
   "id": "7f4c2f67",
   "metadata": {},
   "outputs": [],
   "source": [
    "type_int8 = ['index', 'level', 'fullscreen', 'hq', 'music']\n",
    "for x in type_int8 :\n",
    "    train_data[x] = train_data[x].astype('int8')"
   ]
  },
  {
   "cell_type": "code",
   "execution_count": 7,
   "id": "004c8e54",
   "metadata": {},
   "outputs": [],
   "source": [
    "float_data=['room_coor_x', 'room_coor_y', 'screen_coor_x', 'screen_coor_y']\n",
    "for x in float_data :\n",
    "    train_data[x] = train_data[x].astype('float32')"
   ]
  },
  {
   "cell_type": "code",
   "execution_count": 8,
   "id": "9f7df4ee",
   "metadata": {},
   "outputs": [],
   "source": [
    "object_data =  ['event_name', 'name', 'room_fqid']\n",
    "for x in object_data :\n",
    "    train_data[x] = train_data[x].astype('category')"
   ]
  },
  {
   "cell_type": "code",
   "execution_count": 9,
   "id": "744e30c5",
   "metadata": {},
   "outputs": [],
   "source": [
    "train_data['session_id'] = train_data['session_id'].astype('int64')\n",
    "train_data['elapsed_time'] = train_data['elapsed_time'].astype('int32')"
   ]
  },
  {
   "cell_type": "code",
   "execution_count": 10,
   "id": "3b605309",
   "metadata": {},
   "outputs": [
    {
     "name": "stdout",
     "output_type": "stream",
     "text": [
      "<class 'pandas.core.frame.DataFrame'>\n",
      "RangeIndex: 26296946 entries, 0 to 26296945\n",
      "Data columns (total 20 columns):\n",
      " #   Column          Dtype   \n",
      "---  ------          -----   \n",
      " 0   session_id      int64   \n",
      " 1   index           int8    \n",
      " 2   elapsed_time    int32   \n",
      " 3   event_name      category\n",
      " 4   name            category\n",
      " 5   level           int8    \n",
      " 6   page            float64 \n",
      " 7   room_coor_x     float32 \n",
      " 8   room_coor_y     float32 \n",
      " 9   screen_coor_x   float32 \n",
      " 10  screen_coor_y   float32 \n",
      " 11  hover_duration  float64 \n",
      " 12  text            object  \n",
      " 13  fqid            object  \n",
      " 14  room_fqid       category\n",
      " 15  text_fqid       object  \n",
      " 16  fullscreen      int8    \n",
      " 17  hq              int8    \n",
      " 18  music           int8    \n",
      " 19  level_group     object  \n",
      "dtypes: category(3), float32(4), float64(2), int32(1), int64(1), int8(5), object(4)\n",
      "memory usage: 2.1+ GB\n"
     ]
    }
   ],
   "source": [
    "train_data.info()"
   ]
  },
  {
   "cell_type": "markdown",
   "id": "447e57f0",
   "metadata": {},
   "source": [
    "# Removal of NULL and Duplicated values"
   ]
  },
  {
   "cell_type": "code",
   "execution_count": 11,
   "id": "6775e270",
   "metadata": {},
   "outputs": [
    {
     "data": {
      "text/plain": [
       "(26296946, 20)"
      ]
     },
     "execution_count": 11,
     "metadata": {},
     "output_type": "execute_result"
    }
   ],
   "source": [
    "train_data.shape"
   ]
  },
  {
   "cell_type": "code",
   "execution_count": 12,
   "id": "78cc105d",
   "metadata": {},
   "outputs": [
    {
     "data": {
      "text/plain": [
       "session_id         0.000000\n",
       "index              0.000000\n",
       "elapsed_time       0.000000\n",
       "event_name         0.000000\n",
       "name               0.000000\n",
       "level              0.000000\n",
       "page              97.853196\n",
       "room_coor_x        7.884079\n",
       "room_coor_y        7.884079\n",
       "screen_coor_x      7.884079\n",
       "screen_coor_y      7.884079\n",
       "hover_duration    92.386021\n",
       "text              63.428685\n",
       "fqid              31.465308\n",
       "room_fqid          0.000000\n",
       "text_fqid         63.428286\n",
       "fullscreen         0.000000\n",
       "hq                 0.000000\n",
       "music              0.000000\n",
       "level_group        0.000000\n",
       "dtype: float64"
      ]
     },
     "execution_count": 12,
     "metadata": {},
     "output_type": "execute_result"
    }
   ],
   "source": [
    "train_data.isnull().mean()*100"
   ]
  },
  {
   "cell_type": "code",
   "execution_count": 13,
   "id": "41de78c8",
   "metadata": {},
   "outputs": [
    {
     "data": {
      "text/plain": [
       "0.0"
      ]
     },
     "execution_count": 13,
     "metadata": {},
     "output_type": "execute_result"
    }
   ],
   "source": [
    "train_data.duplicated().mean()*100"
   ]
  },
  {
   "cell_type": "markdown",
   "id": "2f8a9b8e",
   "metadata": {},
   "source": [
    "For the sake of simplicity, we have removed columns that have more than 30% of the data as NULL.\n",
    "\n",
    "Since there are no duplicated values, we do not need to worry about handling duplicates.\n"
   ]
  },
  {
   "cell_type": "code",
   "execution_count": 14,
   "id": "cbed61e9",
   "metadata": {},
   "outputs": [],
   "source": [
    "for x in train_data.columns :\n",
    "    if train_data[x].isnull().mean()*100 >= 30 :\n",
    "        train_data = train_data.drop(x, axis = 'columns')"
   ]
  },
  {
   "cell_type": "markdown",
   "id": "4f57c9df",
   "metadata": {},
   "source": [
    "Since, all the null values are present in columns with datatypes int or float we can perform mean imputation.\n",
    "\n",
    "Mean imputation is a simple method used to handle missing values in a dataset. It involves calculating the mean of the non-null values in a column and replacing the null values with that mean value. By doing so, you can retain the overall average or central tendency of the data while filling in the missing values."
   ]
  },
  {
   "cell_type": "code",
   "execution_count": 15,
   "id": "a644be69",
   "metadata": {},
   "outputs": [],
   "source": [
    "for x in train_data.columns :\n",
    "    if train_data[x].isnull().mean()*100 > 0 :\n",
    "        train_data[x]=train_data[x].fillna(train_data[x].mean())"
   ]
  },
  {
   "cell_type": "code",
   "execution_count": 16,
   "id": "5f5dfddb",
   "metadata": {},
   "outputs": [],
   "source": [
    "# It is better to drop 'hq' and 'index' as it plays negligible role as deciding factor."
   ]
  },
  {
   "cell_type": "code",
   "execution_count": 17,
   "id": "419d5e71",
   "metadata": {},
   "outputs": [],
   "source": [
    "train_data = train_data.drop('index',axis=1) \n",
    "train_data = train_data.drop('hq',axis=1)"
   ]
  },
  {
   "cell_type": "markdown",
   "id": "01635764",
   "metadata": {},
   "source": [
    "Finally, the `train_data` has been optimized and now contains only the necessary features required for model training.\n"
   ]
  },
  {
   "cell_type": "code",
   "execution_count": 18,
   "id": "726711e2",
   "metadata": {},
   "outputs": [
    {
     "name": "stdout",
     "output_type": "stream",
     "text": [
      "<class 'pandas.core.frame.DataFrame'>\n",
      "RangeIndex: 26296946 entries, 0 to 26296945\n",
      "Data columns (total 13 columns):\n",
      " #   Column         Dtype   \n",
      "---  ------         -----   \n",
      " 0   session_id     int64   \n",
      " 1   elapsed_time   int32   \n",
      " 2   event_name     category\n",
      " 3   name           category\n",
      " 4   level          int8    \n",
      " 5   room_coor_x    float32 \n",
      " 6   room_coor_y    float32 \n",
      " 7   screen_coor_x  float32 \n",
      " 8   screen_coor_y  float32 \n",
      " 9   room_fqid      category\n",
      " 10  fullscreen     int8    \n",
      " 11  music          int8    \n",
      " 12  level_group    object  \n",
      "dtypes: category(3), float32(4), int32(1), int64(1), int8(3), object(1)\n",
      "memory usage: 1.0+ GB\n"
     ]
    }
   ],
   "source": [
    "train_data.info()"
   ]
  },
  {
   "cell_type": "code",
   "execution_count": 19,
   "id": "0a9a5364",
   "metadata": {},
   "outputs": [
    {
     "data": {
      "text/html": [
       "<div>\n",
       "<style scoped>\n",
       "    .dataframe tbody tr th:only-of-type {\n",
       "        vertical-align: middle;\n",
       "    }\n",
       "\n",
       "    .dataframe tbody tr th {\n",
       "        vertical-align: top;\n",
       "    }\n",
       "\n",
       "    .dataframe thead th {\n",
       "        text-align: right;\n",
       "    }\n",
       "</style>\n",
       "<table border=\"1\" class=\"dataframe\">\n",
       "  <thead>\n",
       "    <tr style=\"text-align: right;\">\n",
       "      <th></th>\n",
       "      <th>session_id</th>\n",
       "      <th>elapsed_time</th>\n",
       "      <th>event_name</th>\n",
       "      <th>name</th>\n",
       "      <th>level</th>\n",
       "      <th>room_coor_x</th>\n",
       "      <th>room_coor_y</th>\n",
       "      <th>screen_coor_x</th>\n",
       "      <th>screen_coor_y</th>\n",
       "      <th>room_fqid</th>\n",
       "      <th>fullscreen</th>\n",
       "      <th>music</th>\n",
       "      <th>level_group</th>\n",
       "    </tr>\n",
       "  </thead>\n",
       "  <tbody>\n",
       "    <tr>\n",
       "      <th>0</th>\n",
       "      <td>20090312431273200</td>\n",
       "      <td>0</td>\n",
       "      <td>cutscene_click</td>\n",
       "      <td>basic</td>\n",
       "      <td>0</td>\n",
       "      <td>-413.991394</td>\n",
       "      <td>-159.314682</td>\n",
       "      <td>380.0</td>\n",
       "      <td>494.0</td>\n",
       "      <td>tunic.historicalsociety.closet</td>\n",
       "      <td>0</td>\n",
       "      <td>1</td>\n",
       "      <td>0-4</td>\n",
       "    </tr>\n",
       "    <tr>\n",
       "      <th>1</th>\n",
       "      <td>20090312431273200</td>\n",
       "      <td>1323</td>\n",
       "      <td>person_click</td>\n",
       "      <td>basic</td>\n",
       "      <td>0</td>\n",
       "      <td>-413.991394</td>\n",
       "      <td>-159.314682</td>\n",
       "      <td>380.0</td>\n",
       "      <td>494.0</td>\n",
       "      <td>tunic.historicalsociety.closet</td>\n",
       "      <td>0</td>\n",
       "      <td>1</td>\n",
       "      <td>0-4</td>\n",
       "    </tr>\n",
       "    <tr>\n",
       "      <th>2</th>\n",
       "      <td>20090312431273200</td>\n",
       "      <td>831</td>\n",
       "      <td>person_click</td>\n",
       "      <td>basic</td>\n",
       "      <td>0</td>\n",
       "      <td>-413.991394</td>\n",
       "      <td>-159.314682</td>\n",
       "      <td>380.0</td>\n",
       "      <td>494.0</td>\n",
       "      <td>tunic.historicalsociety.closet</td>\n",
       "      <td>0</td>\n",
       "      <td>1</td>\n",
       "      <td>0-4</td>\n",
       "    </tr>\n",
       "    <tr>\n",
       "      <th>3</th>\n",
       "      <td>20090312431273200</td>\n",
       "      <td>1147</td>\n",
       "      <td>person_click</td>\n",
       "      <td>basic</td>\n",
       "      <td>0</td>\n",
       "      <td>-413.991394</td>\n",
       "      <td>-159.314682</td>\n",
       "      <td>380.0</td>\n",
       "      <td>494.0</td>\n",
       "      <td>tunic.historicalsociety.closet</td>\n",
       "      <td>0</td>\n",
       "      <td>1</td>\n",
       "      <td>0-4</td>\n",
       "    </tr>\n",
       "    <tr>\n",
       "      <th>4</th>\n",
       "      <td>20090312431273200</td>\n",
       "      <td>1863</td>\n",
       "      <td>person_click</td>\n",
       "      <td>basic</td>\n",
       "      <td>0</td>\n",
       "      <td>-412.991394</td>\n",
       "      <td>-159.314682</td>\n",
       "      <td>381.0</td>\n",
       "      <td>494.0</td>\n",
       "      <td>tunic.historicalsociety.closet</td>\n",
       "      <td>0</td>\n",
       "      <td>1</td>\n",
       "      <td>0-4</td>\n",
       "    </tr>\n",
       "  </tbody>\n",
       "</table>\n",
       "</div>"
      ],
      "text/plain": [
       "          session_id  elapsed_time      event_name   name  level  room_coor_x  \\\n",
       "0  20090312431273200             0  cutscene_click  basic      0  -413.991394   \n",
       "1  20090312431273200          1323    person_click  basic      0  -413.991394   \n",
       "2  20090312431273200           831    person_click  basic      0  -413.991394   \n",
       "3  20090312431273200          1147    person_click  basic      0  -413.991394   \n",
       "4  20090312431273200          1863    person_click  basic      0  -412.991394   \n",
       "\n",
       "   room_coor_y  screen_coor_x  screen_coor_y                       room_fqid  \\\n",
       "0  -159.314682          380.0          494.0  tunic.historicalsociety.closet   \n",
       "1  -159.314682          380.0          494.0  tunic.historicalsociety.closet   \n",
       "2  -159.314682          380.0          494.0  tunic.historicalsociety.closet   \n",
       "3  -159.314682          380.0          494.0  tunic.historicalsociety.closet   \n",
       "4  -159.314682          381.0          494.0  tunic.historicalsociety.closet   \n",
       "\n",
       "   fullscreen  music level_group  \n",
       "0           0      1         0-4  \n",
       "1           0      1         0-4  \n",
       "2           0      1         0-4  \n",
       "3           0      1         0-4  \n",
       "4           0      1         0-4  "
      ]
     },
     "execution_count": 19,
     "metadata": {},
     "output_type": "execute_result"
    }
   ],
   "source": [
    "train_data.head()"
   ]
  },
  {
   "cell_type": "markdown",
   "id": "aac0e1a9",
   "metadata": {},
   "source": [
    "# Label dataset  "
   ]
  },
  {
   "cell_type": "markdown",
   "id": "6a072d67",
   "metadata": {},
   "source": [
    "Loading the 'train_label.csv' file as 'train_labels'."
   ]
  },
  {
   "cell_type": "code",
   "execution_count": 20,
   "id": "48b50a13",
   "metadata": {},
   "outputs": [],
   "source": [
    "path_labels = \"C:/Users/PIYUSH/OneDrive/Desktop/Coding/ML-AI/Dataset/train_labels.csv\"\n",
    "train_labels = pd.read_csv(path_labels)"
   ]
  },
  {
   "cell_type": "code",
   "execution_count": 21,
   "id": "aefbbff2",
   "metadata": {},
   "outputs": [],
   "source": [
    "# Getting a rough idea about the data"
   ]
  },
  {
   "cell_type": "code",
   "execution_count": 22,
   "id": "0365c2d6",
   "metadata": {},
   "outputs": [
    {
     "data": {
      "text/html": [
       "<div>\n",
       "<style scoped>\n",
       "    .dataframe tbody tr th:only-of-type {\n",
       "        vertical-align: middle;\n",
       "    }\n",
       "\n",
       "    .dataframe tbody tr th {\n",
       "        vertical-align: top;\n",
       "    }\n",
       "\n",
       "    .dataframe thead th {\n",
       "        text-align: right;\n",
       "    }\n",
       "</style>\n",
       "<table border=\"1\" class=\"dataframe\">\n",
       "  <thead>\n",
       "    <tr style=\"text-align: right;\">\n",
       "      <th></th>\n",
       "      <th>session_id</th>\n",
       "      <th>correct</th>\n",
       "    </tr>\n",
       "  </thead>\n",
       "  <tbody>\n",
       "    <tr>\n",
       "      <th>0</th>\n",
       "      <td>20090312431273200_q1</td>\n",
       "      <td>1</td>\n",
       "    </tr>\n",
       "    <tr>\n",
       "      <th>1</th>\n",
       "      <td>20090312433251036_q1</td>\n",
       "      <td>0</td>\n",
       "    </tr>\n",
       "    <tr>\n",
       "      <th>2</th>\n",
       "      <td>20090312455206810_q1</td>\n",
       "      <td>1</td>\n",
       "    </tr>\n",
       "    <tr>\n",
       "      <th>3</th>\n",
       "      <td>20090313091715820_q1</td>\n",
       "      <td>0</td>\n",
       "    </tr>\n",
       "    <tr>\n",
       "      <th>4</th>\n",
       "      <td>20090313571836404_q1</td>\n",
       "      <td>1</td>\n",
       "    </tr>\n",
       "  </tbody>\n",
       "</table>\n",
       "</div>"
      ],
      "text/plain": [
       "             session_id  correct\n",
       "0  20090312431273200_q1        1\n",
       "1  20090312433251036_q1        0\n",
       "2  20090312455206810_q1        1\n",
       "3  20090313091715820_q1        0\n",
       "4  20090313571836404_q1        1"
      ]
     },
     "execution_count": 22,
     "metadata": {},
     "output_type": "execute_result"
    }
   ],
   "source": [
    "train_labels.head()"
   ]
  },
  {
   "cell_type": "code",
   "execution_count": 23,
   "id": "884f4f6b",
   "metadata": {},
   "outputs": [
    {
     "name": "stdout",
     "output_type": "stream",
     "text": [
      "<class 'pandas.core.frame.DataFrame'>\n",
      "RangeIndex: 424116 entries, 0 to 424115\n",
      "Data columns (total 2 columns):\n",
      " #   Column      Non-Null Count   Dtype \n",
      "---  ------      --------------   ----- \n",
      " 0   session_id  424116 non-null  object\n",
      " 1   correct     424116 non-null  int64 \n",
      "dtypes: int64(1), object(1)\n",
      "memory usage: 6.5+ MB\n"
     ]
    }
   ],
   "source": [
    "train_labels.info()"
   ]
  },
  {
   "cell_type": "code",
   "execution_count": 24,
   "id": "92c38fb4",
   "metadata": {},
   "outputs": [
    {
     "data": {
      "text/plain": [
       "(424116, 2)"
      ]
     },
     "execution_count": 24,
     "metadata": {},
     "output_type": "execute_result"
    }
   ],
   "source": [
    "train_labels.shape"
   ]
  },
  {
   "cell_type": "code",
   "execution_count": 25,
   "id": "d1362387",
   "metadata": {},
   "outputs": [
    {
     "data": {
      "text/plain": [
       "1    299271\n",
       "0    124845\n",
       "Name: correct, dtype: int64"
      ]
     },
     "execution_count": 25,
     "metadata": {},
     "output_type": "execute_result"
    }
   ],
   "source": [
    "df_correct = train_labels.correct.value_counts()\n",
    "df_correct"
   ]
  },
  {
   "cell_type": "code",
   "execution_count": 26,
   "id": "8b2d0f62",
   "metadata": {},
   "outputs": [
    {
     "data": {
      "text/plain": [
       "<Axes: xlabel='correct', ylabel='count'>"
      ]
     },
     "execution_count": 26,
     "metadata": {},
     "output_type": "execute_result"
    },
    {
     "data": {
      "image/png": "[encoded data removed]",
      "text/plain": [
       "<Figure size 640x480 with 1 Axes>"
      ]
     },
     "metadata": {},
     "output_type": "display_data"
    }
   ],
   "source": [
    "sns.countplot(x = train_labels['correct'],data=train_labels)"
   ]
  },
  {
   "cell_type": "markdown",
   "id": "bfadf63e",
   "metadata": {},
   "source": [
    "The `session_id` is formed by combining the `session` and `question` values.\n"
   ]
  },
  {
   "cell_type": "code",
   "execution_count": 27,
   "id": "52b41f74",
   "metadata": {},
   "outputs": [],
   "source": [
    "train_labels['session'] = train_labels.session_id.apply(lambda x : int(x.split('_')[0]))        # New column 'sesion'\n",
    "train_labels['question'] = train_labels.session_id.apply(lambda x : int(x.split('_')[-1][1:]))  # New column 'question'"
   ]
  },
  {
   "cell_type": "code",
   "execution_count": 28,
   "id": "939a6469",
   "metadata": {},
   "outputs": [
    {
     "data": {
      "text/html": [
       "<div>\n",
       "<style scoped>\n",
       "    .dataframe tbody tr th:only-of-type {\n",
       "        vertical-align: middle;\n",
       "    }\n",
       "\n",
       "    .dataframe tbody tr th {\n",
       "        vertical-align: top;\n",
       "    }\n",
       "\n",
       "    .dataframe thead th {\n",
       "        text-align: right;\n",
       "    }\n",
       "</style>\n",
       "<table border=\"1\" class=\"dataframe\">\n",
       "  <thead>\n",
       "    <tr style=\"text-align: right;\">\n",
       "      <th></th>\n",
       "      <th>session_id</th>\n",
       "      <th>correct</th>\n",
       "      <th>session</th>\n",
       "      <th>question</th>\n",
       "    </tr>\n",
       "  </thead>\n",
       "  <tbody>\n",
       "    <tr>\n",
       "      <th>0</th>\n",
       "      <td>20090312431273200_q1</td>\n",
       "      <td>1</td>\n",
       "      <td>20090312431273200</td>\n",
       "      <td>1</td>\n",
       "    </tr>\n",
       "    <tr>\n",
       "      <th>1</th>\n",
       "      <td>20090312433251036_q1</td>\n",
       "      <td>0</td>\n",
       "      <td>20090312433251036</td>\n",
       "      <td>1</td>\n",
       "    </tr>\n",
       "    <tr>\n",
       "      <th>2</th>\n",
       "      <td>20090312455206810_q1</td>\n",
       "      <td>1</td>\n",
       "      <td>20090312455206810</td>\n",
       "      <td>1</td>\n",
       "    </tr>\n",
       "    <tr>\n",
       "      <th>3</th>\n",
       "      <td>20090313091715820_q1</td>\n",
       "      <td>0</td>\n",
       "      <td>20090313091715820</td>\n",
       "      <td>1</td>\n",
       "    </tr>\n",
       "    <tr>\n",
       "      <th>4</th>\n",
       "      <td>20090313571836404_q1</td>\n",
       "      <td>1</td>\n",
       "      <td>20090313571836404</td>\n",
       "      <td>1</td>\n",
       "    </tr>\n",
       "  </tbody>\n",
       "</table>\n",
       "</div>"
      ],
      "text/plain": [
       "             session_id  correct            session  question\n",
       "0  20090312431273200_q1        1  20090312431273200         1\n",
       "1  20090312433251036_q1        0  20090312433251036         1\n",
       "2  20090312455206810_q1        1  20090312455206810         1\n",
       "3  20090313091715820_q1        0  20090313091715820         1\n",
       "4  20090313571836404_q1        1  20090313571836404         1"
      ]
     },
     "execution_count": 28,
     "metadata": {},
     "output_type": "execute_result"
    }
   ],
   "source": [
    "train_labels.head()"
   ]
  },
  {
   "cell_type": "markdown",
   "id": "17ef4871",
   "metadata": {},
   "source": [
    "Storing categorical and numerical data columns separately for future use."
   ]
  },
  {
   "cell_type": "code",
   "execution_count": 29,
   "id": "07c92aff",
   "metadata": {},
   "outputs": [],
   "source": [
    "cate = ['event_name','name','room_fqid']\n",
    "nume = ['elapsed_time','level', 'fullscreen', 'music', 'room_coor_x', 'room_coor_y', 'screen_coor_x','screen_coor_y']"
   ]
  },
  {
   "cell_type": "markdown",
   "id": "357d97ab",
   "metadata": {},
   "source": [
    "# Feature Engineering "
   ]
  },
  {
   "cell_type": "markdown",
   "id": "7160cff6",
   "metadata": {},
   "source": [
    "Transforming the original data into a format that is more suitable for machine learning algorithms, improving their performance and accuracy. "
   ]
  },
  {
   "cell_type": "code",
   "execution_count": 30,
   "id": "65840cde",
   "metadata": {},
   "outputs": [
    {
     "data": {
      "text/html": [
       "<div>\n",
       "<style scoped>\n",
       "    .dataframe tbody tr th:only-of-type {\n",
       "        vertical-align: middle;\n",
       "    }\n",
       "\n",
       "    .dataframe tbody tr th {\n",
       "        vertical-align: top;\n",
       "    }\n",
       "\n",
       "    .dataframe thead th {\n",
       "        text-align: right;\n",
       "    }\n",
       "</style>\n",
       "<table border=\"1\" class=\"dataframe\">\n",
       "  <thead>\n",
       "    <tr style=\"text-align: right;\">\n",
       "      <th></th>\n",
       "      <th>session_id</th>\n",
       "      <th>elapsed_time</th>\n",
       "      <th>event_name</th>\n",
       "      <th>name</th>\n",
       "      <th>level</th>\n",
       "      <th>room_coor_x</th>\n",
       "      <th>room_coor_y</th>\n",
       "      <th>screen_coor_x</th>\n",
       "      <th>screen_coor_y</th>\n",
       "      <th>room_fqid</th>\n",
       "      <th>fullscreen</th>\n",
       "      <th>music</th>\n",
       "      <th>level_group</th>\n",
       "    </tr>\n",
       "  </thead>\n",
       "  <tbody>\n",
       "    <tr>\n",
       "      <th>0</th>\n",
       "      <td>20090312431273200</td>\n",
       "      <td>0</td>\n",
       "      <td>cutscene_click</td>\n",
       "      <td>basic</td>\n",
       "      <td>0</td>\n",
       "      <td>-413.991394</td>\n",
       "      <td>-159.314682</td>\n",
       "      <td>380.0</td>\n",
       "      <td>494.0</td>\n",
       "      <td>tunic.historicalsociety.closet</td>\n",
       "      <td>0</td>\n",
       "      <td>1</td>\n",
       "      <td>0-4</td>\n",
       "    </tr>\n",
       "    <tr>\n",
       "      <th>1</th>\n",
       "      <td>20090312431273200</td>\n",
       "      <td>1323</td>\n",
       "      <td>person_click</td>\n",
       "      <td>basic</td>\n",
       "      <td>0</td>\n",
       "      <td>-413.991394</td>\n",
       "      <td>-159.314682</td>\n",
       "      <td>380.0</td>\n",
       "      <td>494.0</td>\n",
       "      <td>tunic.historicalsociety.closet</td>\n",
       "      <td>0</td>\n",
       "      <td>1</td>\n",
       "      <td>0-4</td>\n",
       "    </tr>\n",
       "    <tr>\n",
       "      <th>2</th>\n",
       "      <td>20090312431273200</td>\n",
       "      <td>831</td>\n",
       "      <td>person_click</td>\n",
       "      <td>basic</td>\n",
       "      <td>0</td>\n",
       "      <td>-413.991394</td>\n",
       "      <td>-159.314682</td>\n",
       "      <td>380.0</td>\n",
       "      <td>494.0</td>\n",
       "      <td>tunic.historicalsociety.closet</td>\n",
       "      <td>0</td>\n",
       "      <td>1</td>\n",
       "      <td>0-4</td>\n",
       "    </tr>\n",
       "    <tr>\n",
       "      <th>3</th>\n",
       "      <td>20090312431273200</td>\n",
       "      <td>1147</td>\n",
       "      <td>person_click</td>\n",
       "      <td>basic</td>\n",
       "      <td>0</td>\n",
       "      <td>-413.991394</td>\n",
       "      <td>-159.314682</td>\n",
       "      <td>380.0</td>\n",
       "      <td>494.0</td>\n",
       "      <td>tunic.historicalsociety.closet</td>\n",
       "      <td>0</td>\n",
       "      <td>1</td>\n",
       "      <td>0-4</td>\n",
       "    </tr>\n",
       "    <tr>\n",
       "      <th>4</th>\n",
       "      <td>20090312431273200</td>\n",
       "      <td>1863</td>\n",
       "      <td>person_click</td>\n",
       "      <td>basic</td>\n",
       "      <td>0</td>\n",
       "      <td>-412.991394</td>\n",
       "      <td>-159.314682</td>\n",
       "      <td>381.0</td>\n",
       "      <td>494.0</td>\n",
       "      <td>tunic.historicalsociety.closet</td>\n",
       "      <td>0</td>\n",
       "      <td>1</td>\n",
       "      <td>0-4</td>\n",
       "    </tr>\n",
       "  </tbody>\n",
       "</table>\n",
       "</div>"
      ],
      "text/plain": [
       "          session_id  elapsed_time      event_name   name  level  room_coor_x  \\\n",
       "0  20090312431273200             0  cutscene_click  basic      0  -413.991394   \n",
       "1  20090312431273200          1323    person_click  basic      0  -413.991394   \n",
       "2  20090312431273200           831    person_click  basic      0  -413.991394   \n",
       "3  20090312431273200          1147    person_click  basic      0  -413.991394   \n",
       "4  20090312431273200          1863    person_click  basic      0  -412.991394   \n",
       "\n",
       "   room_coor_y  screen_coor_x  screen_coor_y                       room_fqid  \\\n",
       "0  -159.314682          380.0          494.0  tunic.historicalsociety.closet   \n",
       "1  -159.314682          380.0          494.0  tunic.historicalsociety.closet   \n",
       "2  -159.314682          380.0          494.0  tunic.historicalsociety.closet   \n",
       "3  -159.314682          380.0          494.0  tunic.historicalsociety.closet   \n",
       "4  -159.314682          381.0          494.0  tunic.historicalsociety.closet   \n",
       "\n",
       "   fullscreen  music level_group  \n",
       "0           0      1         0-4  \n",
       "1           0      1         0-4  \n",
       "2           0      1         0-4  \n",
       "3           0      1         0-4  \n",
       "4           0      1         0-4  "
      ]
     },
     "execution_count": 30,
     "metadata": {},
     "output_type": "execute_result"
    }
   ],
   "source": [
    "df = train_data\n",
    "df.head()"
   ]
  },
  {
   "cell_type": "code",
   "execution_count": 31,
   "id": "92533543",
   "metadata": {},
   "outputs": [
    {
     "data": {
      "text/plain": [
       "Index(['session_id', 'elapsed_time', 'event_name', 'name', 'level',\n",
       "       'room_coor_x', 'room_coor_y', 'screen_coor_x', 'screen_coor_y',\n",
       "       'room_fqid', 'fullscreen', 'music', 'level_group'],\n",
       "      dtype='object')"
      ]
     },
     "execution_count": 31,
     "metadata": {},
     "output_type": "execute_result"
    }
   ],
   "source": [
    "df.columns"
   ]
  },
  {
   "cell_type": "code",
   "execution_count": 32,
   "id": "2d3dba93",
   "metadata": {},
   "outputs": [],
   "source": [
    "# Feature Engineering function "
   ]
  },
  {
   "cell_type": "code",
   "execution_count": 33,
   "id": "ad2d2c6f",
   "metadata": {},
   "outputs": [],
   "source": [
    "def feature_engg(df):\n",
    "    df_out = []\n",
    "    \n",
    "    # Aggregating the categorical data using the no of unique entries.\n",
    "    for x in cate :\n",
    "        tmp = df.groupby(['session_id','level_group'])[x].agg('nunique')  \n",
    "        df_out.append(tmp)\n",
    "       \n",
    "    # Aggregating the numerical data using meand and standard deviation    \n",
    "    for x in nume :\n",
    "        tmp = df.groupby(['session_id','level_group'])[x].agg('mean')\n",
    "        tmp.name = tmp.name + '_mean'\n",
    "        df_out.append(tmp)\n",
    "        \n",
    "    for x in nume :\n",
    "        tmp = df.groupby(['session_id','level_group'])[x].agg('std')\n",
    "        tmp.name = tmp.name + '_std'\n",
    "        df_out.append(tmp)\n",
    "        \n",
    "        \n",
    "    df = pd.concat(df_out,axis=1)\n",
    "    \n",
    "    # Setting the new index column\n",
    "    df = df.reset_index()\n",
    "    df = df.set_index('session_id')\n",
    "    \n",
    "    return df\n",
    "        "
   ]
  },
  {
   "cell_type": "code",
   "execution_count": 34,
   "id": "3d39bbfc",
   "metadata": {},
   "outputs": [
    {
     "data": {
      "text/plain": [
       "(70686, 20)"
      ]
     },
     "execution_count": 34,
     "metadata": {},
     "output_type": "execute_result"
    }
   ],
   "source": [
    "# Applying feature_engg function to our dataset\n",
    "df = feature_engg(df) \n",
    "\n",
    "df.shape"
   ]
  },
  {
   "cell_type": "code",
   "execution_count": 35,
   "id": "3b192128",
   "metadata": {},
   "outputs": [
    {
     "data": {
      "text/html": [
       "<div>\n",
       "<style scoped>\n",
       "    .dataframe tbody tr th:only-of-type {\n",
       "        vertical-align: middle;\n",
       "    }\n",
       "\n",
       "    .dataframe tbody tr th {\n",
       "        vertical-align: top;\n",
       "    }\n",
       "\n",
       "    .dataframe thead th {\n",
       "        text-align: right;\n",
       "    }\n",
       "</style>\n",
       "<table border=\"1\" class=\"dataframe\">\n",
       "  <thead>\n",
       "    <tr style=\"text-align: right;\">\n",
       "      <th></th>\n",
       "      <th>level_group</th>\n",
       "      <th>event_name</th>\n",
       "      <th>name</th>\n",
       "      <th>room_fqid</th>\n",
       "      <th>elapsed_time_mean</th>\n",
       "      <th>level_mean</th>\n",
       "      <th>fullscreen_mean</th>\n",
       "      <th>music_mean</th>\n",
       "      <th>room_coor_x_mean</th>\n",
       "      <th>room_coor_y_mean</th>\n",
       "      <th>screen_coor_x_mean</th>\n",
       "      <th>screen_coor_y_mean</th>\n",
       "      <th>elapsed_time_std</th>\n",
       "      <th>level_std</th>\n",
       "      <th>fullscreen_std</th>\n",
       "      <th>music_std</th>\n",
       "      <th>room_coor_x_std</th>\n",
       "      <th>room_coor_y_std</th>\n",
       "      <th>screen_coor_x_std</th>\n",
       "      <th>screen_coor_y_std</th>\n",
       "    </tr>\n",
       "    <tr>\n",
       "      <th>session_id</th>\n",
       "      <th></th>\n",
       "      <th></th>\n",
       "      <th></th>\n",
       "      <th></th>\n",
       "      <th></th>\n",
       "      <th></th>\n",
       "      <th></th>\n",
       "      <th></th>\n",
       "      <th></th>\n",
       "      <th></th>\n",
       "      <th></th>\n",
       "      <th></th>\n",
       "      <th></th>\n",
       "      <th></th>\n",
       "      <th></th>\n",
       "      <th></th>\n",
       "      <th></th>\n",
       "      <th></th>\n",
       "      <th></th>\n",
       "      <th></th>\n",
       "    </tr>\n",
       "  </thead>\n",
       "  <tbody>\n",
       "    <tr>\n",
       "      <th>20090312431273200</th>\n",
       "      <td>0-4</td>\n",
       "      <td>10</td>\n",
       "      <td>3</td>\n",
       "      <td>7</td>\n",
       "      <td>8.579356e+04</td>\n",
       "      <td>1.945455</td>\n",
       "      <td>0.0</td>\n",
       "      <td>1.0</td>\n",
       "      <td>4.286342</td>\n",
       "      <td>-73.857285</td>\n",
       "      <td>448.955688</td>\n",
       "      <td>383.183472</td>\n",
       "      <td>49246.539458</td>\n",
       "      <td>1.230975</td>\n",
       "      <td>0.0</td>\n",
       "      <td>0.0</td>\n",
       "      <td>388.447019</td>\n",
       "      <td>126.108221</td>\n",
       "      <td>208.904380</td>\n",
       "      <td>101.188174</td>\n",
       "    </tr>\n",
       "    <tr>\n",
       "      <th>20090312431273200</th>\n",
       "      <td>13-22</td>\n",
       "      <td>10</td>\n",
       "      <td>3</td>\n",
       "      <td>12</td>\n",
       "      <td>1.040601e+06</td>\n",
       "      <td>17.402381</td>\n",
       "      <td>0.0</td>\n",
       "      <td>1.0</td>\n",
       "      <td>-125.317749</td>\n",
       "      <td>-158.951492</td>\n",
       "      <td>443.551147</td>\n",
       "      <td>379.720001</td>\n",
       "      <td>126666.129584</td>\n",
       "      <td>2.358652</td>\n",
       "      <td>0.0</td>\n",
       "      <td>0.0</td>\n",
       "      <td>601.212445</td>\n",
       "      <td>222.834095</td>\n",
       "      <td>232.147006</td>\n",
       "      <td>95.713359</td>\n",
       "    </tr>\n",
       "    <tr>\n",
       "      <th>20090312431273200</th>\n",
       "      <td>5-12</td>\n",
       "      <td>10</td>\n",
       "      <td>3</td>\n",
       "      <td>11</td>\n",
       "      <td>3.572052e+05</td>\n",
       "      <td>8.054054</td>\n",
       "      <td>0.0</td>\n",
       "      <td>1.0</td>\n",
       "      <td>7.057520</td>\n",
       "      <td>-63.442371</td>\n",
       "      <td>452.627380</td>\n",
       "      <td>379.497162</td>\n",
       "      <td>80175.676658</td>\n",
       "      <td>2.096919</td>\n",
       "      <td>0.0</td>\n",
       "      <td>0.0</td>\n",
       "      <td>338.603398</td>\n",
       "      <td>131.240519</td>\n",
       "      <td>192.302183</td>\n",
       "      <td>113.780735</td>\n",
       "    </tr>\n",
       "    <tr>\n",
       "      <th>20090312433251036</th>\n",
       "      <td>0-4</td>\n",
       "      <td>11</td>\n",
       "      <td>4</td>\n",
       "      <td>6</td>\n",
       "      <td>9.763342e+04</td>\n",
       "      <td>1.870504</td>\n",
       "      <td>0.0</td>\n",
       "      <td>0.0</td>\n",
       "      <td>-82.159187</td>\n",
       "      <td>-57.720493</td>\n",
       "      <td>364.709991</td>\n",
       "      <td>371.685425</td>\n",
       "      <td>67372.714092</td>\n",
       "      <td>1.232616</td>\n",
       "      <td>0.0</td>\n",
       "      <td>0.0</td>\n",
       "      <td>431.252094</td>\n",
       "      <td>151.795230</td>\n",
       "      <td>245.430824</td>\n",
       "      <td>117.106214</td>\n",
       "    </tr>\n",
       "    <tr>\n",
       "      <th>20090312433251036</th>\n",
       "      <td>13-22</td>\n",
       "      <td>11</td>\n",
       "      <td>6</td>\n",
       "      <td>16</td>\n",
       "      <td>2.498852e+06</td>\n",
       "      <td>17.762529</td>\n",
       "      <td>0.0</td>\n",
       "      <td>0.0</td>\n",
       "      <td>-35.471855</td>\n",
       "      <td>-137.663406</td>\n",
       "      <td>461.985870</td>\n",
       "      <td>387.472809</td>\n",
       "      <td>777382.529186</td>\n",
       "      <td>1.825923</td>\n",
       "      <td>0.0</td>\n",
       "      <td>0.0</td>\n",
       "      <td>475.177396</td>\n",
       "      <td>210.436970</td>\n",
       "      <td>232.614054</td>\n",
       "      <td>119.627699</td>\n",
       "    </tr>\n",
       "  </tbody>\n",
       "</table>\n",
       "</div>"
      ],
      "text/plain": [
       "                  level_group  event_name  name  room_fqid  elapsed_time_mean  \\\n",
       "session_id                                                                      \n",
       "20090312431273200         0-4          10     3          7       8.579356e+04   \n",
       "20090312431273200       13-22          10     3         12       1.040601e+06   \n",
       "20090312431273200        5-12          10     3         11       3.572052e+05   \n",
       "20090312433251036         0-4          11     4          6       9.763342e+04   \n",
       "20090312433251036       13-22          11     6         16       2.498852e+06   \n",
       "\n",
       "                   level_mean  fullscreen_mean  music_mean  room_coor_x_mean  \\\n",
       "session_id                                                                     \n",
       "20090312431273200    1.945455              0.0         1.0          4.286342   \n",
       "20090312431273200   17.402381              0.0         1.0       -125.317749   \n",
       "20090312431273200    8.054054              0.0         1.0          7.057520   \n",
       "20090312433251036    1.870504              0.0         0.0        -82.159187   \n",
       "20090312433251036   17.762529              0.0         0.0        -35.471855   \n",
       "\n",
       "                   room_coor_y_mean  screen_coor_x_mean  screen_coor_y_mean  \\\n",
       "session_id                                                                    \n",
       "20090312431273200        -73.857285          448.955688          383.183472   \n",
       "20090312431273200       -158.951492          443.551147          379.720001   \n",
       "20090312431273200        -63.442371          452.627380          379.497162   \n",
       "20090312433251036        -57.720493          364.709991          371.685425   \n",
       "20090312433251036       -137.663406          461.985870          387.472809   \n",
       "\n",
       "                   elapsed_time_std  level_std  fullscreen_std  music_std  \\\n",
       "session_id                                                                  \n",
       "20090312431273200      49246.539458   1.230975             0.0        0.0   \n",
       "20090312431273200     126666.129584   2.358652             0.0        0.0   \n",
       "20090312431273200      80175.676658   2.096919             0.0        0.0   \n",
       "20090312433251036      67372.714092   1.232616             0.0        0.0   \n",
       "20090312433251036     777382.529186   1.825923             0.0        0.0   \n",
       "\n",
       "                   room_coor_x_std  room_coor_y_std  screen_coor_x_std  \\\n",
       "session_id                                                               \n",
       "20090312431273200       388.447019       126.108221         208.904380   \n",
       "20090312431273200       601.212445       222.834095         232.147006   \n",
       "20090312431273200       338.603398       131.240519         192.302183   \n",
       "20090312433251036       431.252094       151.795230         245.430824   \n",
       "20090312433251036       475.177396       210.436970         232.614054   \n",
       "\n",
       "                   screen_coor_y_std  \n",
       "session_id                            \n",
       "20090312431273200         101.188174  \n",
       "20090312431273200          95.713359  \n",
       "20090312431273200         113.780735  \n",
       "20090312433251036         117.106214  \n",
       "20090312433251036         119.627699  "
      ]
     },
     "execution_count": 35,
     "metadata": {},
     "output_type": "execute_result"
    }
   ],
   "source": [
    "# Peeking into data\n",
    "df.head() "
   ]
  },
  {
   "cell_type": "markdown",
   "id": "d41abc0a",
   "metadata": {},
   "source": [
    "Our `train_data` is reduced to a much more suitable form with a datframe shape of (70686,20)"
   ]
  },
  {
   "cell_type": "markdown",
   "id": "ca90adaf",
   "metadata": {},
   "source": [
    "# Basic exploration of the prepared dataset "
   ]
  },
  {
   "cell_type": "code",
   "execution_count": 36,
   "id": "b9c69c1f",
   "metadata": {},
   "outputs": [
    {
     "data": {
      "text/plain": [
       "<Axes: xlabel='level_mean', ylabel='elapsed_time_mean'>"
      ]
     },
     "execution_count": 36,
     "metadata": {},
     "output_type": "execute_result"
    },
    {
     "data": {
      "image/png": "[encoded data removed]",
      "text/plain": [
       "<Figure size 300x400 with 1 Axes>"
      ]
     },
     "metadata": {},
     "output_type": "display_data"
    }
   ],
   "source": [
    "plt.pyplot.figure(figsize=(3,4))\n",
    "sns.scatterplot(data = df, x = \"level_mean\", y=\"elapsed_time_mean\", hue = \"level_group\")"
   ]
  },
  {
   "cell_type": "code",
   "execution_count": 37,
   "id": "3864058a",
   "metadata": {},
   "outputs": [
    {
     "data": {
      "text/plain": [
       "<Axes: xlabel='room_coor_x_mean', ylabel='room_coor_y_mean'>"
      ]
     },
     "execution_count": 37,
     "metadata": {},
     "output_type": "execute_result"
    },
    {
     "data": {
      "image/png": "[encoded data removed]",
      "text/plain": [
       "<Figure size 640x480 with 1 Axes>"
      ]
     },
     "metadata": {},
     "output_type": "display_data"
    }
   ],
   "source": [
    "sns.scatterplot(data=df, x = \"room_coor_x_mean\", y=\"room_coor_y_mean\", hue = \"level_group\")"
   ]
  },
  {
   "cell_type": "code",
   "execution_count": 38,
   "id": "c0c0364a",
   "metadata": {},
   "outputs": [
    {
     "data": {
      "text/plain": [
       "<Axes: xlabel='screen_coor_x_mean', ylabel='screen_coor_y_mean'>"
      ]
     },
     "execution_count": 38,
     "metadata": {},
     "output_type": "execute_result"
    },
    {
     "data": {
      "image/png": "[encoded data removed]",
      "text/plain": [
       "<Figure size 640x480 with 1 Axes>"
      ]
     },
     "metadata": {},
     "output_type": "display_data"
    }
   ],
   "source": [
    "sns.scatterplot(data=df, x = \"screen_coor_x_mean\", y=\"screen_coor_y_mean\", hue = \"level_group\")"
   ]
  },
  {
   "cell_type": "code",
   "execution_count": 39,
   "id": "9b4e6b21",
   "metadata": {},
   "outputs": [
    {
     "data": {
      "text/plain": [
       "0.0    1.0\n",
       "Name: music_std, dtype: float64"
      ]
     },
     "execution_count": 39,
     "metadata": {},
     "output_type": "execute_result"
    }
   ],
   "source": [
    "df['music_std'].value_counts(normalize=True)"
   ]
  },
  {
   "cell_type": "code",
   "execution_count": 40,
   "id": "8f1ca03d",
   "metadata": {},
   "outputs": [
    {
     "data": {
      "text/plain": [
       "0.0    1.0\n",
       "Name: fullscreen_std, dtype: float64"
      ]
     },
     "execution_count": 40,
     "metadata": {},
     "output_type": "execute_result"
    }
   ],
   "source": [
    "df['fullscreen_std'].value_counts(normalize=True)"
   ]
  },
  {
   "cell_type": "markdown",
   "id": "36d1dc15",
   "metadata": {},
   "source": [
    "removing `fullscreen_std` and `music_std` they have same value for every data."
   ]
  },
  {
   "cell_type": "code",
   "execution_count": 41,
   "id": "e5a3e827",
   "metadata": {},
   "outputs": [],
   "source": [
    "df = df.drop('fullscreen_std',axis=1)\n",
    "df = df.drop('music_std',axis=1)"
   ]
  },
  {
   "cell_type": "code",
   "execution_count": 42,
   "id": "999f6ff8",
   "metadata": {},
   "outputs": [
    {
     "data": {
      "text/plain": [
       "0.0    0.861217\n",
       "1.0    0.138783\n",
       "Name: fullscreen_mean, dtype: float64"
      ]
     },
     "execution_count": 42,
     "metadata": {},
     "output_type": "execute_result"
    }
   ],
   "source": [
    "df['fullscreen_mean'].value_counts(normalize=True)"
   ]
  },
  {
   "cell_type": "code",
   "execution_count": 43,
   "id": "76a009ab",
   "metadata": {},
   "outputs": [
    {
     "data": {
      "text/plain": [
       "<Axes: xlabel='fullscreen_mean', ylabel='count'>"
      ]
     },
     "execution_count": 43,
     "metadata": {},
     "output_type": "execute_result"
    },
    {
     "data": {
      "image/png": "[encoded data removed]",
      "text/plain": [
       "<Figure size 640x480 with 1 Axes>"
      ]
     },
     "metadata": {},
     "output_type": "display_data"
    }
   ],
   "source": [
    "sns.countplot(x=df['fullscreen_mean'])"
   ]
  },
  {
   "cell_type": "code",
   "execution_count": 44,
   "id": "5ece584a",
   "metadata": {},
   "outputs": [
    {
     "data": {
      "text/plain": [
       "<Axes: xlabel='music_mean', ylabel='count'>"
      ]
     },
     "execution_count": 44,
     "metadata": {},
     "output_type": "execute_result"
    },
    {
     "data": {
      "image/png": "[encoded data removed]",
      "text/plain": [
       "<Figure size 640x480 with 1 Axes>"
      ]
     },
     "metadata": {},
     "output_type": "display_data"
    }
   ],
   "source": [
    "sns.countplot(x=df['music_mean'])"
   ]
  },
  {
   "cell_type": "code",
   "execution_count": 45,
   "id": "9e960d9f",
   "metadata": {},
   "outputs": [
    {
     "data": {
      "text/plain": [
       "1.0    0.926449\n",
       "0.0    0.073551\n",
       "Name: music_mean, dtype: float64"
      ]
     },
     "execution_count": 45,
     "metadata": {},
     "output_type": "execute_result"
    }
   ],
   "source": [
    "df['music_mean'].value_counts(normalize=True)"
   ]
  },
  {
   "cell_type": "markdown",
   "id": "100755bd",
   "metadata": {},
   "source": [
    "Removing `music_mean` as it doesnot play significant role in desicion making."
   ]
  },
  {
   "cell_type": "code",
   "execution_count": 46,
   "id": "ec6b4b5a",
   "metadata": {},
   "outputs": [],
   "source": [
    "df = df.drop('music_mean', axis=1)"
   ]
  },
  {
   "cell_type": "markdown",
   "id": "e6382607",
   "metadata": {},
   "source": [
    "### Spliting for test and validation data"
   ]
  },
  {
   "cell_type": "code",
   "execution_count": 47,
   "id": "d4a6b94b",
   "metadata": {},
   "outputs": [],
   "source": [
    "def split_df(df,ratio=0.20) :\n",
    "    user_list = df.index.unique()\n",
    "    split =int(len(user_list)*(1-ratio))\n",
    "    train_x,valid_x = df.loc[user_list[0:split]],df.loc[user_list[split:]]\n",
    "    return train_x,valid_x\n",
    "train_x,valid_x = split_df(df)"
   ]
  },
  {
   "cell_type": "markdown",
   "id": "fd614fae",
   "metadata": {},
   "source": [
    "`train_x` is our training part of data and `valid_x` is our validation part."
   ]
  },
  {
   "cell_type": "markdown",
   "id": "ffd06bf2",
   "metadata": {},
   "source": [
    "# Model Training"
   ]
  },
  {
   "cell_type": "markdown",
   "id": "2975fd9a",
   "metadata": {},
   "source": [
    "We are using `GradientBoostingclassifier` and `RandomForestClassifier` from `Sci-ket Learn` Library"
   ]
  },
  {
   "cell_type": "code",
   "execution_count": 48,
   "id": "a82e0ffe",
   "metadata": {},
   "outputs": [],
   "source": [
    "from sklearn.metrics import accuracy_score"
   ]
  },
  {
   "cell_type": "code",
   "execution_count": 49,
   "id": "1c819037",
   "metadata": {},
   "outputs": [],
   "source": [
    "# Empty Dictionaries for storing trained models for 18 different quetions  \n",
    "model_tree = {}\n",
    "model_boost = {}\n",
    "\n",
    "#Empty Dictionarie for storing accuracy of models obtained\n",
    "accuracy_tree = {}\n",
    "accuracy_boost = {}"
   ]
  },
  {
   "cell_type": "markdown",
   "id": "07693702",
   "metadata": {},
   "source": [
    "### Random Forest Calssifier"
   ]
  },
  {
   "cell_type": "code",
   "execution_count": 50,
   "id": "58e2def5",
   "metadata": {},
   "outputs": [
    {
     "name": "stdout",
     "output_type": "stream",
     "text": [
      "For question no  1\n"
     ]
    },
    {
     "name": "stderr",
     "output_type": "stream",
     "text": [
      "C:\\Users\\PIYUSH\\AppData\\Local\\Temp\\ipykernel_23268\\2245190575.py:21: SettingWithCopyWarning: \n",
      "A value is trying to be set on a copy of a slice from a DataFrame.\n",
      "Try using .loc[row_indexer,col_indexer] = value instead\n",
      "\n",
      "See the caveats in the documentation: https://pandas.pydata.org/pandas-docs/stable/user_guide/indexing.html#returning-a-view-versus-a-copy\n",
      "  train_df.loc[:,'correct']=labels_train['correct']\n",
      "C:\\Users\\PIYUSH\\AppData\\Local\\Temp\\ipykernel_23268\\2245190575.py:22: SettingWithCopyWarning: \n",
      "A value is trying to be set on a copy of a slice from a DataFrame.\n",
      "Try using .loc[row_indexer,col_indexer] = value instead\n",
      "\n",
      "See the caveats in the documentation: https://pandas.pydata.org/pandas-docs/stable/user_guide/indexing.html#returning-a-view-versus-a-copy\n",
      "  valid_df.loc[:,'correct']=labels_valid['correct']\n"
     ]
    },
    {
     "name": "stdout",
     "output_type": "stream",
     "text": [
      "For question no  2\n"
     ]
    },
    {
     "name": "stderr",
     "output_type": "stream",
     "text": [
      "C:\\Users\\PIYUSH\\AppData\\Local\\Temp\\ipykernel_23268\\2245190575.py:21: SettingWithCopyWarning: \n",
      "A value is trying to be set on a copy of a slice from a DataFrame.\n",
      "Try using .loc[row_indexer,col_indexer] = value instead\n",
      "\n",
      "See the caveats in the documentation: https://pandas.pydata.org/pandas-docs/stable/user_guide/indexing.html#returning-a-view-versus-a-copy\n",
      "  train_df.loc[:,'correct']=labels_train['correct']\n",
      "C:\\Users\\PIYUSH\\AppData\\Local\\Temp\\ipykernel_23268\\2245190575.py:22: SettingWithCopyWarning: \n",
      "A value is trying to be set on a copy of a slice from a DataFrame.\n",
      "Try using .loc[row_indexer,col_indexer] = value instead\n",
      "\n",
      "See the caveats in the documentation: https://pandas.pydata.org/pandas-docs/stable/user_guide/indexing.html#returning-a-view-versus-a-copy\n",
      "  valid_df.loc[:,'correct']=labels_valid['correct']\n"
     ]
    },
    {
     "name": "stdout",
     "output_type": "stream",
     "text": [
      "For question no  3\n"
     ]
    },
    {
     "name": "stderr",
     "output_type": "stream",
     "text": [
      "C:\\Users\\PIYUSH\\AppData\\Local\\Temp\\ipykernel_23268\\2245190575.py:21: SettingWithCopyWarning: \n",
      "A value is trying to be set on a copy of a slice from a DataFrame.\n",
      "Try using .loc[row_indexer,col_indexer] = value instead\n",
      "\n",
      "See the caveats in the documentation: https://pandas.pydata.org/pandas-docs/stable/user_guide/indexing.html#returning-a-view-versus-a-copy\n",
      "  train_df.loc[:,'correct']=labels_train['correct']\n",
      "C:\\Users\\PIYUSH\\AppData\\Local\\Temp\\ipykernel_23268\\2245190575.py:22: SettingWithCopyWarning: \n",
      "A value is trying to be set on a copy of a slice from a DataFrame.\n",
      "Try using .loc[row_indexer,col_indexer] = value instead\n",
      "\n",
      "See the caveats in the documentation: https://pandas.pydata.org/pandas-docs/stable/user_guide/indexing.html#returning-a-view-versus-a-copy\n",
      "  valid_df.loc[:,'correct']=labels_valid['correct']\n"
     ]
    },
    {
     "name": "stdout",
     "output_type": "stream",
     "text": [
      "For question no  4\n"
     ]
    },
    {
     "name": "stderr",
     "output_type": "stream",
     "text": [
      "C:\\Users\\PIYUSH\\AppData\\Local\\Temp\\ipykernel_23268\\2245190575.py:21: SettingWithCopyWarning: \n",
      "A value is trying to be set on a copy of a slice from a DataFrame.\n",
      "Try using .loc[row_indexer,col_indexer] = value instead\n",
      "\n",
      "See the caveats in the documentation: https://pandas.pydata.org/pandas-docs/stable/user_guide/indexing.html#returning-a-view-versus-a-copy\n",
      "  train_df.loc[:,'correct']=labels_train['correct']\n",
      "C:\\Users\\PIYUSH\\AppData\\Local\\Temp\\ipykernel_23268\\2245190575.py:22: SettingWithCopyWarning: \n",
      "A value is trying to be set on a copy of a slice from a DataFrame.\n",
      "Try using .loc[row_indexer,col_indexer] = value instead\n",
      "\n",
      "See the caveats in the documentation: https://pandas.pydata.org/pandas-docs/stable/user_guide/indexing.html#returning-a-view-versus-a-copy\n",
      "  valid_df.loc[:,'correct']=labels_valid['correct']\n"
     ]
    },
    {
     "name": "stdout",
     "output_type": "stream",
     "text": [
      "For question no  5\n"
     ]
    },
    {
     "name": "stderr",
     "output_type": "stream",
     "text": [
      "C:\\Users\\PIYUSH\\AppData\\Local\\Temp\\ipykernel_23268\\2245190575.py:21: SettingWithCopyWarning: \n",
      "A value is trying to be set on a copy of a slice from a DataFrame.\n",
      "Try using .loc[row_indexer,col_indexer] = value instead\n",
      "\n",
      "See the caveats in the documentation: https://pandas.pydata.org/pandas-docs/stable/user_guide/indexing.html#returning-a-view-versus-a-copy\n",
      "  train_df.loc[:,'correct']=labels_train['correct']\n",
      "C:\\Users\\PIYUSH\\AppData\\Local\\Temp\\ipykernel_23268\\2245190575.py:22: SettingWithCopyWarning: \n",
      "A value is trying to be set on a copy of a slice from a DataFrame.\n",
      "Try using .loc[row_indexer,col_indexer] = value instead\n",
      "\n",
      "See the caveats in the documentation: https://pandas.pydata.org/pandas-docs/stable/user_guide/indexing.html#returning-a-view-versus-a-copy\n",
      "  valid_df.loc[:,'correct']=labels_valid['correct']\n"
     ]
    },
    {
     "name": "stdout",
     "output_type": "stream",
     "text": [
      "For question no  6\n"
     ]
    },
    {
     "name": "stderr",
     "output_type": "stream",
     "text": [
      "C:\\Users\\PIYUSH\\AppData\\Local\\Temp\\ipykernel_23268\\2245190575.py:21: SettingWithCopyWarning: \n",
      "A value is trying to be set on a copy of a slice from a DataFrame.\n",
      "Try using .loc[row_indexer,col_indexer] = value instead\n",
      "\n",
      "See the caveats in the documentation: https://pandas.pydata.org/pandas-docs/stable/user_guide/indexing.html#returning-a-view-versus-a-copy\n",
      "  train_df.loc[:,'correct']=labels_train['correct']\n",
      "C:\\Users\\PIYUSH\\AppData\\Local\\Temp\\ipykernel_23268\\2245190575.py:22: SettingWithCopyWarning: \n",
      "A value is trying to be set on a copy of a slice from a DataFrame.\n",
      "Try using .loc[row_indexer,col_indexer] = value instead\n",
      "\n",
      "See the caveats in the documentation: https://pandas.pydata.org/pandas-docs/stable/user_guide/indexing.html#returning-a-view-versus-a-copy\n",
      "  valid_df.loc[:,'correct']=labels_valid['correct']\n"
     ]
    },
    {
     "name": "stdout",
     "output_type": "stream",
     "text": [
      "For question no  7\n"
     ]
    },
    {
     "name": "stderr",
     "output_type": "stream",
     "text": [
      "C:\\Users\\PIYUSH\\AppData\\Local\\Temp\\ipykernel_23268\\2245190575.py:21: SettingWithCopyWarning: \n",
      "A value is trying to be set on a copy of a slice from a DataFrame.\n",
      "Try using .loc[row_indexer,col_indexer] = value instead\n",
      "\n",
      "See the caveats in the documentation: https://pandas.pydata.org/pandas-docs/stable/user_guide/indexing.html#returning-a-view-versus-a-copy\n",
      "  train_df.loc[:,'correct']=labels_train['correct']\n",
      "C:\\Users\\PIYUSH\\AppData\\Local\\Temp\\ipykernel_23268\\2245190575.py:22: SettingWithCopyWarning: \n",
      "A value is trying to be set on a copy of a slice from a DataFrame.\n",
      "Try using .loc[row_indexer,col_indexer] = value instead\n",
      "\n",
      "See the caveats in the documentation: https://pandas.pydata.org/pandas-docs/stable/user_guide/indexing.html#returning-a-view-versus-a-copy\n",
      "  valid_df.loc[:,'correct']=labels_valid['correct']\n"
     ]
    },
    {
     "name": "stdout",
     "output_type": "stream",
     "text": [
      "For question no  8\n"
     ]
    },
    {
     "name": "stderr",
     "output_type": "stream",
     "text": [
      "C:\\Users\\PIYUSH\\AppData\\Local\\Temp\\ipykernel_23268\\2245190575.py:21: SettingWithCopyWarning: \n",
      "A value is trying to be set on a copy of a slice from a DataFrame.\n",
      "Try using .loc[row_indexer,col_indexer] = value instead\n",
      "\n",
      "See the caveats in the documentation: https://pandas.pydata.org/pandas-docs/stable/user_guide/indexing.html#returning-a-view-versus-a-copy\n",
      "  train_df.loc[:,'correct']=labels_train['correct']\n",
      "C:\\Users\\PIYUSH\\AppData\\Local\\Temp\\ipykernel_23268\\2245190575.py:22: SettingWithCopyWarning: \n",
      "A value is trying to be set on a copy of a slice from a DataFrame.\n",
      "Try using .loc[row_indexer,col_indexer] = value instead\n",
      "\n",
      "See the caveats in the documentation: https://pandas.pydata.org/pandas-docs/stable/user_guide/indexing.html#returning-a-view-versus-a-copy\n",
      "  valid_df.loc[:,'correct']=labels_valid['correct']\n"
     ]
    },
    {
     "name": "stdout",
     "output_type": "stream",
     "text": [
      "For question no  9\n"
     ]
    },
    {
     "name": "stderr",
     "output_type": "stream",
     "text": [
      "C:\\Users\\PIYUSH\\AppData\\Local\\Temp\\ipykernel_23268\\2245190575.py:21: SettingWithCopyWarning: \n",
      "A value is trying to be set on a copy of a slice from a DataFrame.\n",
      "Try using .loc[row_indexer,col_indexer] = value instead\n",
      "\n",
      "See the caveats in the documentation: https://pandas.pydata.org/pandas-docs/stable/user_guide/indexing.html#returning-a-view-versus-a-copy\n",
      "  train_df.loc[:,'correct']=labels_train['correct']\n",
      "C:\\Users\\PIYUSH\\AppData\\Local\\Temp\\ipykernel_23268\\2245190575.py:22: SettingWithCopyWarning: \n",
      "A value is trying to be set on a copy of a slice from a DataFrame.\n",
      "Try using .loc[row_indexer,col_indexer] = value instead\n",
      "\n",
      "See the caveats in the documentation: https://pandas.pydata.org/pandas-docs/stable/user_guide/indexing.html#returning-a-view-versus-a-copy\n",
      "  valid_df.loc[:,'correct']=labels_valid['correct']\n"
     ]
    },
    {
     "name": "stdout",
     "output_type": "stream",
     "text": [
      "For question no  10\n"
     ]
    },
    {
     "name": "stderr",
     "output_type": "stream",
     "text": [
      "C:\\Users\\PIYUSH\\AppData\\Local\\Temp\\ipykernel_23268\\2245190575.py:21: SettingWithCopyWarning: \n",
      "A value is trying to be set on a copy of a slice from a DataFrame.\n",
      "Try using .loc[row_indexer,col_indexer] = value instead\n",
      "\n",
      "See the caveats in the documentation: https://pandas.pydata.org/pandas-docs/stable/user_guide/indexing.html#returning-a-view-versus-a-copy\n",
      "  train_df.loc[:,'correct']=labels_train['correct']\n",
      "C:\\Users\\PIYUSH\\AppData\\Local\\Temp\\ipykernel_23268\\2245190575.py:22: SettingWithCopyWarning: \n",
      "A value is trying to be set on a copy of a slice from a DataFrame.\n",
      "Try using .loc[row_indexer,col_indexer] = value instead\n",
      "\n",
      "See the caveats in the documentation: https://pandas.pydata.org/pandas-docs/stable/user_guide/indexing.html#returning-a-view-versus-a-copy\n",
      "  valid_df.loc[:,'correct']=labels_valid['correct']\n"
     ]
    },
    {
     "name": "stdout",
     "output_type": "stream",
     "text": [
      "For question no  11\n"
     ]
    },
    {
     "name": "stderr",
     "output_type": "stream",
     "text": [
      "C:\\Users\\PIYUSH\\AppData\\Local\\Temp\\ipykernel_23268\\2245190575.py:21: SettingWithCopyWarning: \n",
      "A value is trying to be set on a copy of a slice from a DataFrame.\n",
      "Try using .loc[row_indexer,col_indexer] = value instead\n",
      "\n",
      "See the caveats in the documentation: https://pandas.pydata.org/pandas-docs/stable/user_guide/indexing.html#returning-a-view-versus-a-copy\n",
      "  train_df.loc[:,'correct']=labels_train['correct']\n",
      "C:\\Users\\PIYUSH\\AppData\\Local\\Temp\\ipykernel_23268\\2245190575.py:22: SettingWithCopyWarning: \n",
      "A value is trying to be set on a copy of a slice from a DataFrame.\n",
      "Try using .loc[row_indexer,col_indexer] = value instead\n",
      "\n",
      "See the caveats in the documentation: https://pandas.pydata.org/pandas-docs/stable/user_guide/indexing.html#returning-a-view-versus-a-copy\n",
      "  valid_df.loc[:,'correct']=labels_valid['correct']\n"
     ]
    },
    {
     "name": "stdout",
     "output_type": "stream",
     "text": [
      "For question no  12\n"
     ]
    },
    {
     "name": "stderr",
     "output_type": "stream",
     "text": [
      "C:\\Users\\PIYUSH\\AppData\\Local\\Temp\\ipykernel_23268\\2245190575.py:21: SettingWithCopyWarning: \n",
      "A value is trying to be set on a copy of a slice from a DataFrame.\n",
      "Try using .loc[row_indexer,col_indexer] = value instead\n",
      "\n",
      "See the caveats in the documentation: https://pandas.pydata.org/pandas-docs/stable/user_guide/indexing.html#returning-a-view-versus-a-copy\n",
      "  train_df.loc[:,'correct']=labels_train['correct']\n",
      "C:\\Users\\PIYUSH\\AppData\\Local\\Temp\\ipykernel_23268\\2245190575.py:22: SettingWithCopyWarning: \n",
      "A value is trying to be set on a copy of a slice from a DataFrame.\n",
      "Try using .loc[row_indexer,col_indexer] = value instead\n",
      "\n",
      "See the caveats in the documentation: https://pandas.pydata.org/pandas-docs/stable/user_guide/indexing.html#returning-a-view-versus-a-copy\n",
      "  valid_df.loc[:,'correct']=labels_valid['correct']\n"
     ]
    },
    {
     "name": "stdout",
     "output_type": "stream",
     "text": [
      "For question no  13\n"
     ]
    },
    {
     "name": "stderr",
     "output_type": "stream",
     "text": [
      "C:\\Users\\PIYUSH\\AppData\\Local\\Temp\\ipykernel_23268\\2245190575.py:21: SettingWithCopyWarning: \n",
      "A value is trying to be set on a copy of a slice from a DataFrame.\n",
      "Try using .loc[row_indexer,col_indexer] = value instead\n",
      "\n",
      "See the caveats in the documentation: https://pandas.pydata.org/pandas-docs/stable/user_guide/indexing.html#returning-a-view-versus-a-copy\n",
      "  train_df.loc[:,'correct']=labels_train['correct']\n",
      "C:\\Users\\PIYUSH\\AppData\\Local\\Temp\\ipykernel_23268\\2245190575.py:22: SettingWithCopyWarning: \n",
      "A value is trying to be set on a copy of a slice from a DataFrame.\n",
      "Try using .loc[row_indexer,col_indexer] = value instead\n",
      "\n",
      "See the caveats in the documentation: https://pandas.pydata.org/pandas-docs/stable/user_guide/indexing.html#returning-a-view-versus-a-copy\n",
      "  valid_df.loc[:,'correct']=labels_valid['correct']\n"
     ]
    },
    {
     "name": "stdout",
     "output_type": "stream",
     "text": [
      "For question no  14\n"
     ]
    },
    {
     "name": "stderr",
     "output_type": "stream",
     "text": [
      "C:\\Users\\PIYUSH\\AppData\\Local\\Temp\\ipykernel_23268\\2245190575.py:21: SettingWithCopyWarning: \n",
      "A value is trying to be set on a copy of a slice from a DataFrame.\n",
      "Try using .loc[row_indexer,col_indexer] = value instead\n",
      "\n",
      "See the caveats in the documentation: https://pandas.pydata.org/pandas-docs/stable/user_guide/indexing.html#returning-a-view-versus-a-copy\n",
      "  train_df.loc[:,'correct']=labels_train['correct']\n",
      "C:\\Users\\PIYUSH\\AppData\\Local\\Temp\\ipykernel_23268\\2245190575.py:22: SettingWithCopyWarning: \n",
      "A value is trying to be set on a copy of a slice from a DataFrame.\n",
      "Try using .loc[row_indexer,col_indexer] = value instead\n",
      "\n",
      "See the caveats in the documentation: https://pandas.pydata.org/pandas-docs/stable/user_guide/indexing.html#returning-a-view-versus-a-copy\n",
      "  valid_df.loc[:,'correct']=labels_valid['correct']\n"
     ]
    },
    {
     "name": "stdout",
     "output_type": "stream",
     "text": [
      "For question no  15\n"
     ]
    },
    {
     "name": "stderr",
     "output_type": "stream",
     "text": [
      "C:\\Users\\PIYUSH\\AppData\\Local\\Temp\\ipykernel_23268\\2245190575.py:21: SettingWithCopyWarning: \n",
      "A value is trying to be set on a copy of a slice from a DataFrame.\n",
      "Try using .loc[row_indexer,col_indexer] = value instead\n",
      "\n",
      "See the caveats in the documentation: https://pandas.pydata.org/pandas-docs/stable/user_guide/indexing.html#returning-a-view-versus-a-copy\n",
      "  train_df.loc[:,'correct']=labels_train['correct']\n",
      "C:\\Users\\PIYUSH\\AppData\\Local\\Temp\\ipykernel_23268\\2245190575.py:22: SettingWithCopyWarning: \n",
      "A value is trying to be set on a copy of a slice from a DataFrame.\n",
      "Try using .loc[row_indexer,col_indexer] = value instead\n",
      "\n",
      "See the caveats in the documentation: https://pandas.pydata.org/pandas-docs/stable/user_guide/indexing.html#returning-a-view-versus-a-copy\n",
      "  valid_df.loc[:,'correct']=labels_valid['correct']\n"
     ]
    },
    {
     "name": "stdout",
     "output_type": "stream",
     "text": [
      "For question no  16\n"
     ]
    },
    {
     "name": "stderr",
     "output_type": "stream",
     "text": [
      "C:\\Users\\PIYUSH\\AppData\\Local\\Temp\\ipykernel_23268\\2245190575.py:21: SettingWithCopyWarning: \n",
      "A value is trying to be set on a copy of a slice from a DataFrame.\n",
      "Try using .loc[row_indexer,col_indexer] = value instead\n",
      "\n",
      "See the caveats in the documentation: https://pandas.pydata.org/pandas-docs/stable/user_guide/indexing.html#returning-a-view-versus-a-copy\n",
      "  train_df.loc[:,'correct']=labels_train['correct']\n",
      "C:\\Users\\PIYUSH\\AppData\\Local\\Temp\\ipykernel_23268\\2245190575.py:22: SettingWithCopyWarning: \n",
      "A value is trying to be set on a copy of a slice from a DataFrame.\n",
      "Try using .loc[row_indexer,col_indexer] = value instead\n",
      "\n",
      "See the caveats in the documentation: https://pandas.pydata.org/pandas-docs/stable/user_guide/indexing.html#returning-a-view-versus-a-copy\n",
      "  valid_df.loc[:,'correct']=labels_valid['correct']\n"
     ]
    },
    {
     "name": "stdout",
     "output_type": "stream",
     "text": [
      "For question no  17\n"
     ]
    },
    {
     "name": "stderr",
     "output_type": "stream",
     "text": [
      "C:\\Users\\PIYUSH\\AppData\\Local\\Temp\\ipykernel_23268\\2245190575.py:21: SettingWithCopyWarning: \n",
      "A value is trying to be set on a copy of a slice from a DataFrame.\n",
      "Try using .loc[row_indexer,col_indexer] = value instead\n",
      "\n",
      "See the caveats in the documentation: https://pandas.pydata.org/pandas-docs/stable/user_guide/indexing.html#returning-a-view-versus-a-copy\n",
      "  train_df.loc[:,'correct']=labels_train['correct']\n",
      "C:\\Users\\PIYUSH\\AppData\\Local\\Temp\\ipykernel_23268\\2245190575.py:22: SettingWithCopyWarning: \n",
      "A value is trying to be set on a copy of a slice from a DataFrame.\n",
      "Try using .loc[row_indexer,col_indexer] = value instead\n",
      "\n",
      "See the caveats in the documentation: https://pandas.pydata.org/pandas-docs/stable/user_guide/indexing.html#returning-a-view-versus-a-copy\n",
      "  valid_df.loc[:,'correct']=labels_valid['correct']\n"
     ]
    },
    {
     "name": "stdout",
     "output_type": "stream",
     "text": [
      "For question no  18\n"
     ]
    },
    {
     "name": "stderr",
     "output_type": "stream",
     "text": [
      "C:\\Users\\PIYUSH\\AppData\\Local\\Temp\\ipykernel_23268\\2245190575.py:21: SettingWithCopyWarning: \n",
      "A value is trying to be set on a copy of a slice from a DataFrame.\n",
      "Try using .loc[row_indexer,col_indexer] = value instead\n",
      "\n",
      "See the caveats in the documentation: https://pandas.pydata.org/pandas-docs/stable/user_guide/indexing.html#returning-a-view-versus-a-copy\n",
      "  train_df.loc[:,'correct']=labels_train['correct']\n",
      "C:\\Users\\PIYUSH\\AppData\\Local\\Temp\\ipykernel_23268\\2245190575.py:22: SettingWithCopyWarning: \n",
      "A value is trying to be set on a copy of a slice from a DataFrame.\n",
      "Try using .loc[row_indexer,col_indexer] = value instead\n",
      "\n",
      "See the caveats in the documentation: https://pandas.pydata.org/pandas-docs/stable/user_guide/indexing.html#returning-a-view-versus-a-copy\n",
      "  valid_df.loc[:,'correct']=labels_valid['correct']\n"
     ]
    }
   ],
   "source": [
    "from sklearn.ensemble import RandomForestClassifier\n",
    "\n",
    "for q_no in range(1,19):\n",
    "    \n",
    "    # Selecting the level_group\n",
    "    if q_no <= 4 : grp = '0-4'\n",
    "    elif q_no <= 12 : grp = '5-12'\n",
    "    elif q_no <= 22 : grp = '13-22'\n",
    "        \n",
    "    print(\"For question no \",q_no)\n",
    "    \n",
    "    # Segregating data based on level_group\n",
    "    train_df = train_x.loc[train_x.level_group==grp]\n",
    "    train_users = train_df.index.values\n",
    "    valid_df = valid_x.loc[valid_x.level_group==grp]\n",
    "    valid_users = valid_df.index.values\n",
    "    \n",
    "    # Filtering the required labels based on session_id or index of tarin_df and valid_df\n",
    "    labels_train = train_labels.loc[train_labels.question==q_no].set_index('session').loc[train_users]\n",
    "    labels_valid = train_labels.loc[train_labels.question==q_no].set_index('session').loc[valid_users]\n",
    "    train_df.loc[:,'correct']=labels_train['correct']\n",
    "    valid_df.loc[:,'correct']=labels_valid['correct']\n",
    "    \n",
    "    # Dropping level_group as it is no longer required for training the model\n",
    "    train_df = train_df.drop('level_group',axis=1)\n",
    "    valid_df = valid_df.drop('level_group',axis=1)\n",
    "    \n",
    "    # Selecting the X and Y values for model training and validation\n",
    "    Y_train = train_df['correct']\n",
    "    Y_valid = valid_df['correct']\n",
    "    X_train = train_df.drop('correct',axis=1)\n",
    "    X_valid = valid_df.drop('correct',axis=1)\n",
    "    \n",
    "    # Training our model\n",
    "    forest = RandomForestClassifier()\n",
    "    forest.fit(X_train,Y_train)\n",
    "    \n",
    "    # Storing the model in model dictionary\n",
    "    model_tree[f'{q_no}']=forest\n",
    "    \n",
    "    # Validating and storing the accuracy score in accuracy dictionary\n",
    "    label_pred = forest.predict(X_valid)\n",
    "    accuracy_tree[f'{q_no}']=accuracy_score(Y_valid, label_pred)"
   ]
  },
  {
   "cell_type": "markdown",
   "id": "c891a7cd",
   "metadata": {},
   "source": [
    "### Gradient Boost Classifier"
   ]
  },
  {
   "cell_type": "code",
   "execution_count": 51,
   "id": "43652546",
   "metadata": {},
   "outputs": [
    {
     "name": "stdout",
     "output_type": "stream",
     "text": [
      "For question no  1\n"
     ]
    },
    {
     "name": "stderr",
     "output_type": "stream",
     "text": [
      "C:\\Users\\PIYUSH\\AppData\\Local\\Temp\\ipykernel_23268\\3144057717.py:20: SettingWithCopyWarning: \n",
      "A value is trying to be set on a copy of a slice from a DataFrame.\n",
      "Try using .loc[row_indexer,col_indexer] = value instead\n",
      "\n",
      "See the caveats in the documentation: https://pandas.pydata.org/pandas-docs/stable/user_guide/indexing.html#returning-a-view-versus-a-copy\n",
      "  train_df.loc[:,'correct']=labels_train['correct']\n",
      "C:\\Users\\PIYUSH\\AppData\\Local\\Temp\\ipykernel_23268\\3144057717.py:21: SettingWithCopyWarning: \n",
      "A value is trying to be set on a copy of a slice from a DataFrame.\n",
      "Try using .loc[row_indexer,col_indexer] = value instead\n",
      "\n",
      "See the caveats in the documentation: https://pandas.pydata.org/pandas-docs/stable/user_guide/indexing.html#returning-a-view-versus-a-copy\n",
      "  valid_df.loc[:,'correct']=labels_valid['correct']\n"
     ]
    },
    {
     "name": "stdout",
     "output_type": "stream",
     "text": [
      "For question no  2\n"
     ]
    },
    {
     "name": "stderr",
     "output_type": "stream",
     "text": [
      "C:\\Users\\PIYUSH\\AppData\\Local\\Temp\\ipykernel_23268\\3144057717.py:20: SettingWithCopyWarning: \n",
      "A value is trying to be set on a copy of a slice from a DataFrame.\n",
      "Try using .loc[row_indexer,col_indexer] = value instead\n",
      "\n",
      "See the caveats in the documentation: https://pandas.pydata.org/pandas-docs/stable/user_guide/indexing.html#returning-a-view-versus-a-copy\n",
      "  train_df.loc[:,'correct']=labels_train['correct']\n",
      "C:\\Users\\PIYUSH\\AppData\\Local\\Temp\\ipykernel_23268\\3144057717.py:21: SettingWithCopyWarning: \n",
      "A value is trying to be set on a copy of a slice from a DataFrame.\n",
      "Try using .loc[row_indexer,col_indexer] = value instead\n",
      "\n",
      "See the caveats in the documentation: https://pandas.pydata.org/pandas-docs/stable/user_guide/indexing.html#returning-a-view-versus-a-copy\n",
      "  valid_df.loc[:,'correct']=labels_valid['correct']\n"
     ]
    },
    {
     "name": "stdout",
     "output_type": "stream",
     "text": [
      "For question no  3\n"
     ]
    },
    {
     "name": "stderr",
     "output_type": "stream",
     "text": [
      "C:\\Users\\PIYUSH\\AppData\\Local\\Temp\\ipykernel_23268\\3144057717.py:20: SettingWithCopyWarning: \n",
      "A value is trying to be set on a copy of a slice from a DataFrame.\n",
      "Try using .loc[row_indexer,col_indexer] = value instead\n",
      "\n",
      "See the caveats in the documentation: https://pandas.pydata.org/pandas-docs/stable/user_guide/indexing.html#returning-a-view-versus-a-copy\n",
      "  train_df.loc[:,'correct']=labels_train['correct']\n",
      "C:\\Users\\PIYUSH\\AppData\\Local\\Temp\\ipykernel_23268\\3144057717.py:21: SettingWithCopyWarning: \n",
      "A value is trying to be set on a copy of a slice from a DataFrame.\n",
      "Try using .loc[row_indexer,col_indexer] = value instead\n",
      "\n",
      "See the caveats in the documentation: https://pandas.pydata.org/pandas-docs/stable/user_guide/indexing.html#returning-a-view-versus-a-copy\n",
      "  valid_df.loc[:,'correct']=labels_valid['correct']\n"
     ]
    },
    {
     "name": "stdout",
     "output_type": "stream",
     "text": [
      "For question no  4\n"
     ]
    },
    {
     "name": "stderr",
     "output_type": "stream",
     "text": [
      "C:\\Users\\PIYUSH\\AppData\\Local\\Temp\\ipykernel_23268\\3144057717.py:20: SettingWithCopyWarning: \n",
      "A value is trying to be set on a copy of a slice from a DataFrame.\n",
      "Try using .loc[row_indexer,col_indexer] = value instead\n",
      "\n",
      "See the caveats in the documentation: https://pandas.pydata.org/pandas-docs/stable/user_guide/indexing.html#returning-a-view-versus-a-copy\n",
      "  train_df.loc[:,'correct']=labels_train['correct']\n",
      "C:\\Users\\PIYUSH\\AppData\\Local\\Temp\\ipykernel_23268\\3144057717.py:21: SettingWithCopyWarning: \n",
      "A value is trying to be set on a copy of a slice from a DataFrame.\n",
      "Try using .loc[row_indexer,col_indexer] = value instead\n",
      "\n",
      "See the caveats in the documentation: https://pandas.pydata.org/pandas-docs/stable/user_guide/indexing.html#returning-a-view-versus-a-copy\n",
      "  valid_df.loc[:,'correct']=labels_valid['correct']\n"
     ]
    },
    {
     "name": "stdout",
     "output_type": "stream",
     "text": [
      "For question no  5\n"
     ]
    },
    {
     "name": "stderr",
     "output_type": "stream",
     "text": [
      "C:\\Users\\PIYUSH\\AppData\\Local\\Temp\\ipykernel_23268\\3144057717.py:20: SettingWithCopyWarning: \n",
      "A value is trying to be set on a copy of a slice from a DataFrame.\n",
      "Try using .loc[row_indexer,col_indexer] = value instead\n",
      "\n",
      "See the caveats in the documentation: https://pandas.pydata.org/pandas-docs/stable/user_guide/indexing.html#returning-a-view-versus-a-copy\n",
      "  train_df.loc[:,'correct']=labels_train['correct']\n",
      "C:\\Users\\PIYUSH\\AppData\\Local\\Temp\\ipykernel_23268\\3144057717.py:21: SettingWithCopyWarning: \n",
      "A value is trying to be set on a copy of a slice from a DataFrame.\n",
      "Try using .loc[row_indexer,col_indexer] = value instead\n",
      "\n",
      "See the caveats in the documentation: https://pandas.pydata.org/pandas-docs/stable/user_guide/indexing.html#returning-a-view-versus-a-copy\n",
      "  valid_df.loc[:,'correct']=labels_valid['correct']\n"
     ]
    },
    {
     "name": "stdout",
     "output_type": "stream",
     "text": [
      "For question no  6\n"
     ]
    },
    {
     "name": "stderr",
     "output_type": "stream",
     "text": [
      "C:\\Users\\PIYUSH\\AppData\\Local\\Temp\\ipykernel_23268\\3144057717.py:20: SettingWithCopyWarning: \n",
      "A value is trying to be set on a copy of a slice from a DataFrame.\n",
      "Try using .loc[row_indexer,col_indexer] = value instead\n",
      "\n",
      "See the caveats in the documentation: https://pandas.pydata.org/pandas-docs/stable/user_guide/indexing.html#returning-a-view-versus-a-copy\n",
      "  train_df.loc[:,'correct']=labels_train['correct']\n",
      "C:\\Users\\PIYUSH\\AppData\\Local\\Temp\\ipykernel_23268\\3144057717.py:21: SettingWithCopyWarning: \n",
      "A value is trying to be set on a copy of a slice from a DataFrame.\n",
      "Try using .loc[row_indexer,col_indexer] = value instead\n",
      "\n",
      "See the caveats in the documentation: https://pandas.pydata.org/pandas-docs/stable/user_guide/indexing.html#returning-a-view-versus-a-copy\n",
      "  valid_df.loc[:,'correct']=labels_valid['correct']\n"
     ]
    },
    {
     "name": "stdout",
     "output_type": "stream",
     "text": [
      "For question no  7\n"
     ]
    },
    {
     "name": "stderr",
     "output_type": "stream",
     "text": [
      "C:\\Users\\PIYUSH\\AppData\\Local\\Temp\\ipykernel_23268\\3144057717.py:20: SettingWithCopyWarning: \n",
      "A value is trying to be set on a copy of a slice from a DataFrame.\n",
      "Try using .loc[row_indexer,col_indexer] = value instead\n",
      "\n",
      "See the caveats in the documentation: https://pandas.pydata.org/pandas-docs/stable/user_guide/indexing.html#returning-a-view-versus-a-copy\n",
      "  train_df.loc[:,'correct']=labels_train['correct']\n",
      "C:\\Users\\PIYUSH\\AppData\\Local\\Temp\\ipykernel_23268\\3144057717.py:21: SettingWithCopyWarning: \n",
      "A value is trying to be set on a copy of a slice from a DataFrame.\n",
      "Try using .loc[row_indexer,col_indexer] = value instead\n",
      "\n",
      "See the caveats in the documentation: https://pandas.pydata.org/pandas-docs/stable/user_guide/indexing.html#returning-a-view-versus-a-copy\n",
      "  valid_df.loc[:,'correct']=labels_valid['correct']\n"
     ]
    },
    {
     "name": "stdout",
     "output_type": "stream",
     "text": [
      "For question no  8\n"
     ]
    },
    {
     "name": "stderr",
     "output_type": "stream",
     "text": [
      "C:\\Users\\PIYUSH\\AppData\\Local\\Temp\\ipykernel_23268\\3144057717.py:20: SettingWithCopyWarning: \n",
      "A value is trying to be set on a copy of a slice from a DataFrame.\n",
      "Try using .loc[row_indexer,col_indexer] = value instead\n",
      "\n",
      "See the caveats in the documentation: https://pandas.pydata.org/pandas-docs/stable/user_guide/indexing.html#returning-a-view-versus-a-copy\n",
      "  train_df.loc[:,'correct']=labels_train['correct']\n",
      "C:\\Users\\PIYUSH\\AppData\\Local\\Temp\\ipykernel_23268\\3144057717.py:21: SettingWithCopyWarning: \n",
      "A value is trying to be set on a copy of a slice from a DataFrame.\n",
      "Try using .loc[row_indexer,col_indexer] = value instead\n",
      "\n",
      "See the caveats in the documentation: https://pandas.pydata.org/pandas-docs/stable/user_guide/indexing.html#returning-a-view-versus-a-copy\n",
      "  valid_df.loc[:,'correct']=labels_valid['correct']\n"
     ]
    },
    {
     "name": "stdout",
     "output_type": "stream",
     "text": [
      "For question no  9\n"
     ]
    },
    {
     "name": "stderr",
     "output_type": "stream",
     "text": [
      "C:\\Users\\PIYUSH\\AppData\\Local\\Temp\\ipykernel_23268\\3144057717.py:20: SettingWithCopyWarning: \n",
      "A value is trying to be set on a copy of a slice from a DataFrame.\n",
      "Try using .loc[row_indexer,col_indexer] = value instead\n",
      "\n",
      "See the caveats in the documentation: https://pandas.pydata.org/pandas-docs/stable/user_guide/indexing.html#returning-a-view-versus-a-copy\n",
      "  train_df.loc[:,'correct']=labels_train['correct']\n",
      "C:\\Users\\PIYUSH\\AppData\\Local\\Temp\\ipykernel_23268\\3144057717.py:21: SettingWithCopyWarning: \n",
      "A value is trying to be set on a copy of a slice from a DataFrame.\n",
      "Try using .loc[row_indexer,col_indexer] = value instead\n",
      "\n",
      "See the caveats in the documentation: https://pandas.pydata.org/pandas-docs/stable/user_guide/indexing.html#returning-a-view-versus-a-copy\n",
      "  valid_df.loc[:,'correct']=labels_valid['correct']\n"
     ]
    },
    {
     "name": "stdout",
     "output_type": "stream",
     "text": [
      "For question no  10\n"
     ]
    },
    {
     "name": "stderr",
     "output_type": "stream",
     "text": [
      "C:\\Users\\PIYUSH\\AppData\\Local\\Temp\\ipykernel_23268\\3144057717.py:20: SettingWithCopyWarning: \n",
      "A value is trying to be set on a copy of a slice from a DataFrame.\n",
      "Try using .loc[row_indexer,col_indexer] = value instead\n",
      "\n",
      "See the caveats in the documentation: https://pandas.pydata.org/pandas-docs/stable/user_guide/indexing.html#returning-a-view-versus-a-copy\n",
      "  train_df.loc[:,'correct']=labels_train['correct']\n",
      "C:\\Users\\PIYUSH\\AppData\\Local\\Temp\\ipykernel_23268\\3144057717.py:21: SettingWithCopyWarning: \n",
      "A value is trying to be set on a copy of a slice from a DataFrame.\n",
      "Try using .loc[row_indexer,col_indexer] = value instead\n",
      "\n",
      "See the caveats in the documentation: https://pandas.pydata.org/pandas-docs/stable/user_guide/indexing.html#returning-a-view-versus-a-copy\n",
      "  valid_df.loc[:,'correct']=labels_valid['correct']\n"
     ]
    },
    {
     "name": "stdout",
     "output_type": "stream",
     "text": [
      "For question no  11\n"
     ]
    },
    {
     "name": "stderr",
     "output_type": "stream",
     "text": [
      "C:\\Users\\PIYUSH\\AppData\\Local\\Temp\\ipykernel_23268\\3144057717.py:20: SettingWithCopyWarning: \n",
      "A value is trying to be set on a copy of a slice from a DataFrame.\n",
      "Try using .loc[row_indexer,col_indexer] = value instead\n",
      "\n",
      "See the caveats in the documentation: https://pandas.pydata.org/pandas-docs/stable/user_guide/indexing.html#returning-a-view-versus-a-copy\n",
      "  train_df.loc[:,'correct']=labels_train['correct']\n",
      "C:\\Users\\PIYUSH\\AppData\\Local\\Temp\\ipykernel_23268\\3144057717.py:21: SettingWithCopyWarning: \n",
      "A value is trying to be set on a copy of a slice from a DataFrame.\n",
      "Try using .loc[row_indexer,col_indexer] = value instead\n",
      "\n",
      "See the caveats in the documentation: https://pandas.pydata.org/pandas-docs/stable/user_guide/indexing.html#returning-a-view-versus-a-copy\n",
      "  valid_df.loc[:,'correct']=labels_valid['correct']\n"
     ]
    },
    {
     "name": "stdout",
     "output_type": "stream",
     "text": [
      "For question no  12\n"
     ]
    },
    {
     "name": "stderr",
     "output_type": "stream",
     "text": [
      "C:\\Users\\PIYUSH\\AppData\\Local\\Temp\\ipykernel_23268\\3144057717.py:20: SettingWithCopyWarning: \n",
      "A value is trying to be set on a copy of a slice from a DataFrame.\n",
      "Try using .loc[row_indexer,col_indexer] = value instead\n",
      "\n",
      "See the caveats in the documentation: https://pandas.pydata.org/pandas-docs/stable/user_guide/indexing.html#returning-a-view-versus-a-copy\n",
      "  train_df.loc[:,'correct']=labels_train['correct']\n",
      "C:\\Users\\PIYUSH\\AppData\\Local\\Temp\\ipykernel_23268\\3144057717.py:21: SettingWithCopyWarning: \n",
      "A value is trying to be set on a copy of a slice from a DataFrame.\n",
      "Try using .loc[row_indexer,col_indexer] = value instead\n",
      "\n",
      "See the caveats in the documentation: https://pandas.pydata.org/pandas-docs/stable/user_guide/indexing.html#returning-a-view-versus-a-copy\n",
      "  valid_df.loc[:,'correct']=labels_valid['correct']\n"
     ]
    },
    {
     "name": "stdout",
     "output_type": "stream",
     "text": [
      "For question no  13\n"
     ]
    },
    {
     "name": "stderr",
     "output_type": "stream",
     "text": [
      "C:\\Users\\PIYUSH\\AppData\\Local\\Temp\\ipykernel_23268\\3144057717.py:20: SettingWithCopyWarning: \n",
      "A value is trying to be set on a copy of a slice from a DataFrame.\n",
      "Try using .loc[row_indexer,col_indexer] = value instead\n",
      "\n",
      "See the caveats in the documentation: https://pandas.pydata.org/pandas-docs/stable/user_guide/indexing.html#returning-a-view-versus-a-copy\n",
      "  train_df.loc[:,'correct']=labels_train['correct']\n",
      "C:\\Users\\PIYUSH\\AppData\\Local\\Temp\\ipykernel_23268\\3144057717.py:21: SettingWithCopyWarning: \n",
      "A value is trying to be set on a copy of a slice from a DataFrame.\n",
      "Try using .loc[row_indexer,col_indexer] = value instead\n",
      "\n",
      "See the caveats in the documentation: https://pandas.pydata.org/pandas-docs/stable/user_guide/indexing.html#returning-a-view-versus-a-copy\n",
      "  valid_df.loc[:,'correct']=labels_valid['correct']\n"
     ]
    },
    {
     "name": "stdout",
     "output_type": "stream",
     "text": [
      "For question no  14\n"
     ]
    },
    {
     "name": "stderr",
     "output_type": "stream",
     "text": [
      "C:\\Users\\PIYUSH\\AppData\\Local\\Temp\\ipykernel_23268\\3144057717.py:20: SettingWithCopyWarning: \n",
      "A value is trying to be set on a copy of a slice from a DataFrame.\n",
      "Try using .loc[row_indexer,col_indexer] = value instead\n",
      "\n",
      "See the caveats in the documentation: https://pandas.pydata.org/pandas-docs/stable/user_guide/indexing.html#returning-a-view-versus-a-copy\n",
      "  train_df.loc[:,'correct']=labels_train['correct']\n",
      "C:\\Users\\PIYUSH\\AppData\\Local\\Temp\\ipykernel_23268\\3144057717.py:21: SettingWithCopyWarning: \n",
      "A value is trying to be set on a copy of a slice from a DataFrame.\n",
      "Try using .loc[row_indexer,col_indexer] = value instead\n",
      "\n",
      "See the caveats in the documentation: https://pandas.pydata.org/pandas-docs/stable/user_guide/indexing.html#returning-a-view-versus-a-copy\n",
      "  valid_df.loc[:,'correct']=labels_valid['correct']\n"
     ]
    },
    {
     "name": "stdout",
     "output_type": "stream",
     "text": [
      "For question no  15\n"
     ]
    },
    {
     "name": "stderr",
     "output_type": "stream",
     "text": [
      "C:\\Users\\PIYUSH\\AppData\\Local\\Temp\\ipykernel_23268\\3144057717.py:20: SettingWithCopyWarning: \n",
      "A value is trying to be set on a copy of a slice from a DataFrame.\n",
      "Try using .loc[row_indexer,col_indexer] = value instead\n",
      "\n",
      "See the caveats in the documentation: https://pandas.pydata.org/pandas-docs/stable/user_guide/indexing.html#returning-a-view-versus-a-copy\n",
      "  train_df.loc[:,'correct']=labels_train['correct']\n",
      "C:\\Users\\PIYUSH\\AppData\\Local\\Temp\\ipykernel_23268\\3144057717.py:21: SettingWithCopyWarning: \n",
      "A value is trying to be set on a copy of a slice from a DataFrame.\n",
      "Try using .loc[row_indexer,col_indexer] = value instead\n",
      "\n",
      "See the caveats in the documentation: https://pandas.pydata.org/pandas-docs/stable/user_guide/indexing.html#returning-a-view-versus-a-copy\n",
      "  valid_df.loc[:,'correct']=labels_valid['correct']\n"
     ]
    },
    {
     "name": "stdout",
     "output_type": "stream",
     "text": [
      "For question no  16\n"
     ]
    },
    {
     "name": "stderr",
     "output_type": "stream",
     "text": [
      "C:\\Users\\PIYUSH\\AppData\\Local\\Temp\\ipykernel_23268\\3144057717.py:20: SettingWithCopyWarning: \n",
      "A value is trying to be set on a copy of a slice from a DataFrame.\n",
      "Try using .loc[row_indexer,col_indexer] = value instead\n",
      "\n",
      "See the caveats in the documentation: https://pandas.pydata.org/pandas-docs/stable/user_guide/indexing.html#returning-a-view-versus-a-copy\n",
      "  train_df.loc[:,'correct']=labels_train['correct']\n",
      "C:\\Users\\PIYUSH\\AppData\\Local\\Temp\\ipykernel_23268\\3144057717.py:21: SettingWithCopyWarning: \n",
      "A value is trying to be set on a copy of a slice from a DataFrame.\n",
      "Try using .loc[row_indexer,col_indexer] = value instead\n",
      "\n",
      "See the caveats in the documentation: https://pandas.pydata.org/pandas-docs/stable/user_guide/indexing.html#returning-a-view-versus-a-copy\n",
      "  valid_df.loc[:,'correct']=labels_valid['correct']\n"
     ]
    },
    {
     "name": "stdout",
     "output_type": "stream",
     "text": [
      "For question no  17\n"
     ]
    },
    {
     "name": "stderr",
     "output_type": "stream",
     "text": [
      "C:\\Users\\PIYUSH\\AppData\\Local\\Temp\\ipykernel_23268\\3144057717.py:20: SettingWithCopyWarning: \n",
      "A value is trying to be set on a copy of a slice from a DataFrame.\n",
      "Try using .loc[row_indexer,col_indexer] = value instead\n",
      "\n",
      "See the caveats in the documentation: https://pandas.pydata.org/pandas-docs/stable/user_guide/indexing.html#returning-a-view-versus-a-copy\n",
      "  train_df.loc[:,'correct']=labels_train['correct']\n",
      "C:\\Users\\PIYUSH\\AppData\\Local\\Temp\\ipykernel_23268\\3144057717.py:21: SettingWithCopyWarning: \n",
      "A value is trying to be set on a copy of a slice from a DataFrame.\n",
      "Try using .loc[row_indexer,col_indexer] = value instead\n",
      "\n",
      "See the caveats in the documentation: https://pandas.pydata.org/pandas-docs/stable/user_guide/indexing.html#returning-a-view-versus-a-copy\n",
      "  valid_df.loc[:,'correct']=labels_valid['correct']\n"
     ]
    },
    {
     "name": "stdout",
     "output_type": "stream",
     "text": [
      "For question no  18\n"
     ]
    },
    {
     "name": "stderr",
     "output_type": "stream",
     "text": [
      "C:\\Users\\PIYUSH\\AppData\\Local\\Temp\\ipykernel_23268\\3144057717.py:20: SettingWithCopyWarning: \n",
      "A value is trying to be set on a copy of a slice from a DataFrame.\n",
      "Try using .loc[row_indexer,col_indexer] = value instead\n",
      "\n",
      "See the caveats in the documentation: https://pandas.pydata.org/pandas-docs/stable/user_guide/indexing.html#returning-a-view-versus-a-copy\n",
      "  train_df.loc[:,'correct']=labels_train['correct']\n",
      "C:\\Users\\PIYUSH\\AppData\\Local\\Temp\\ipykernel_23268\\3144057717.py:21: SettingWithCopyWarning: \n",
      "A value is trying to be set on a copy of a slice from a DataFrame.\n",
      "Try using .loc[row_indexer,col_indexer] = value instead\n",
      "\n",
      "See the caveats in the documentation: https://pandas.pydata.org/pandas-docs/stable/user_guide/indexing.html#returning-a-view-versus-a-copy\n",
      "  valid_df.loc[:,'correct']=labels_valid['correct']\n"
     ]
    }
   ],
   "source": [
    "from sklearn.ensemble import GradientBoostingClassifier\n",
    "for q_no in range(1,19):\n",
    "    \n",
    "    # Selecting the level_group\n",
    "    if q_no <= 4 : grp = '0-4'\n",
    "    elif q_no <= 12 : grp = '5-12'\n",
    "    elif q_no <= 22 : grp = '13-22'\n",
    "        \n",
    "    print(\"For question no \",q_no)\n",
    "    \n",
    "    # Segregating data based on level_group\n",
    "    train_df = train_x.loc[train_x.level_group==grp]\n",
    "    train_users = train_df.index.values\n",
    "    valid_df = valid_x.loc[valid_x.level_group==grp]\n",
    "    valid_users = valid_df.index.values\n",
    "    \n",
    "    # Filtering the required labels based on session_id or index of tarin_df and valid_df\n",
    "    labels_train = train_labels.loc[train_labels.question==q_no].set_index('session').loc[train_users]\n",
    "    labels_valid = train_labels.loc[train_labels.question==q_no].set_index('session').loc[valid_users]\n",
    "    train_df.loc[:,'correct']=labels_train['correct']\n",
    "    valid_df.loc[:,'correct']=labels_valid['correct']\n",
    "    \n",
    "    # Dropping level_group as it is no longer required for training the model\n",
    "    train_df = train_df.drop('level_group',axis=1)\n",
    "    valid_df = valid_df.drop('level_group',axis=1)\n",
    "    \n",
    "    # Selecting the X and Y values for model training and validation\n",
    "    Y_train = train_df['correct']\n",
    "    Y_valid = valid_df['correct']\n",
    "    X_train = train_df.drop('correct',axis=1)\n",
    "    X_valid = valid_df.drop('correct',axis=1)\n",
    "    \n",
    "    # Training our model\n",
    "    boost = GradientBoostingClassifier()\n",
    "    boost.fit(X_train,Y_train)\n",
    "    \n",
    "    # Storing the model in model dictionary\n",
    "    model_boost[f'{q_no}']=boost\n",
    "    \n",
    "    # Validating and storing the accuracy score in accuracy dictionary\n",
    "    label_pred = boost.predict(X_valid)\n",
    "    accuracy_boost[f'{q_no}']=accuracy_score(Y_valid, label_pred)"
   ]
  },
  {
   "cell_type": "markdown",
   "id": "c360b6cc",
   "metadata": {},
   "source": [
    "## Accuracy of the Models"
   ]
  },
  {
   "cell_type": "code",
   "execution_count": 52,
   "id": "298d6924",
   "metadata": {},
   "outputs": [
    {
     "name": "stdout",
     "output_type": "stream",
     "text": [
      "question 1: accuracy 0.7303\n",
      "question 2: accuracy 0.9756\n",
      "question 3: accuracy 0.9351\n",
      "question 4: accuracy 0.7882\n",
      "question 5: accuracy 0.5937\n",
      "question 6: accuracy 0.7876\n",
      "question 7: accuracy 0.7409\n",
      "question 8: accuracy 0.6249\n",
      "question 9: accuracy 0.7547\n",
      "question 10: accuracy 0.5625\n",
      "question 11: accuracy 0.6429\n",
      "question 12: accuracy 0.8695\n",
      "question 13: accuracy 0.7163\n",
      "question 14: accuracy 0.7293\n",
      "question 15: accuracy 0.5822\n",
      "question 16: accuracy 0.7467\n",
      "question 17: accuracy 0.7010\n",
      "question 18: accuracy 0.9516\n",
      "\n",
      "Average accuracy 0.7462809722516917\n"
     ]
    }
   ],
   "source": [
    "for name, value in accuracy_tree.items():\n",
    "  print(f\"question {name}: accuracy {value:.4f}\")\n",
    "\n",
    "print(\"\\nAverage accuracy\", sum(accuracy_tree.values())/18)"
   ]
  },
  {
   "cell_type": "code",
   "execution_count": 53,
   "id": "f6806993",
   "metadata": {},
   "outputs": [
    {
     "name": "stdout",
     "output_type": "stream",
     "text": [
      "question 1: accuracy 0.7303\n",
      "question 2: accuracy 0.9720\n",
      "question 3: accuracy 0.9346\n",
      "question 4: accuracy 0.7906\n",
      "question 5: accuracy 0.6166\n",
      "question 6: accuracy 0.7868\n",
      "question 7: accuracy 0.7445\n",
      "question 8: accuracy 0.6259\n",
      "question 9: accuracy 0.7600\n",
      "question 10: accuracy 0.5918\n",
      "question 11: accuracy 0.6537\n",
      "question 12: accuracy 0.8699\n",
      "question 13: accuracy 0.7197\n",
      "question 14: accuracy 0.7369\n",
      "question 15: accuracy 0.5988\n",
      "question 16: accuracy 0.7475\n",
      "question 17: accuracy 0.7019\n",
      "question 18: accuracy 0.9506\n",
      "\n",
      "Average accuracy 0.7517858405827851\n"
     ]
    }
   ],
   "source": [
    "for name, value in accuracy_boost.items():\n",
    "  print(f\"question {name}: accuracy {value:.4f}\")\n",
    "\n",
    "print(\"\\nAverage accuracy\", sum(accuracy_boost.values())/18)"
   ]
  },
  {
   "cell_type": "markdown",
   "id": "d48cf03d",
   "metadata": {},
   "source": [
    "#### The average accuracy of Gradient Boost Classifier is slightly better than Random Forest Classifier"
   ]
  }
 ],
 "metadata": {
  "kernelspec": {
   "display_name": "Python 3 (ipykernel)",
   "language": "python",
   "name": "python3"
  },
  "language_info": {
   "codemirror_mode": {
    "name": "ipython",
    "version": 3
   },
   "file_extension": ".py",
   "mimetype": "text/x-python",
   "name": "python",
   "nbconvert_exporter": "python",
   "pygments_lexer": "ipython3",
   "version": "3.10.6"
  }
 },
 "nbformat": 4,
 "nbformat_minor": 5
}
